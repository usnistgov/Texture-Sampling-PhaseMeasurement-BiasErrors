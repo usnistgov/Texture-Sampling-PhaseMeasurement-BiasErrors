{
 "cells": [
  {
   "cell_type": "markdown",
   "metadata": {},
   "source": [
    "# PoleFigurePhaseFractions.ipynb\n",
    "Written by Adam Creuziger (adam.creuziger@nist.gov)\n",
    "\n",
    "Oct 2017, Dec 2020\n",
    "\n",
    "    This data was developed by employees of the National Institute of Standards and Technology (NIST), an agency of the Federal Government. Pursuant to title 17 United States Code Section 105, works of NIST employees are not subject to copyright protection in the United States and are considered to be in the public domain.\n",
    "\n",
    "    The data is provided by NIST as a public service and is expressly provided \"AS IS.\" NIST MAKES NO WARRANTY OF ANY KIND, EXPRESS, IMPLIED OR STATUTORY, INCLUDING, WITHOUT LIMITATION, THE IMPLIED WARRANTY OF MERCHANTABILITY, FITNESS FOR A PARTICULAR PURPOSE, NON-INFRINGEMENT AND DATA ACCURACY. NIST does not warrant or make any representations regarding the use of the data or the results thereof, including but not limited to the correctness, accuracy, reliability or usefulness of the data. NIST SHALL NOT BE LIABLE AND YOU HEREBY RELEASE NIST FROM LIABILITY FOR ANY INDIRECT, CONSEQUENTIAL, SPECIAL, OR INCIDENTAL DAMAGES (INCLUDING DAMAGES FOR LOSS OF BUSINESS PROFITS, BUSINESS INTERRUPTION, LOSS OF BUSINESS INFORMATION, AND THE LIKE), WHETHER ARISING IN TORT, CONTRACT, OR OTHERWISE, ARISING FROM OR RELATING TO THE DATA (OR THE USE OF OR INABILITY TO USE THIS DATA), EVEN IF NIST HAS BEEN ADVISED OF THE POSSIBILITY OF SUCH DAMAGES.\n",
    "\n",
    "    To the extent that NIST may hold copyright in countries other than the United States, you are hereby granted the non-exclusive irrevocable and unconditional right to print, publish, prepare derivative works and distribute the NIST data, in any medium, or authorize others to do so on your behalf, on a royalty-free basis throughout the world.\n",
    "\n",
    "    You may improve, modify, and create derivative works of the data or any portion of the data, and you may copy and distribute such modifications or works. Modified works should carry a notice stating that you changed the data and should note the date and nature of any such change. Please explicitly acknowledge the National Institute of Standards and Technology as the source of the data: Data citation recommendations are provided below.\n",
    "\n",
    "    Permission to use this data is contingent upon your acceptance of the terms of this agreement and upon your providing appropriate acknowledgments of NIST's creation of the data.\n",
    "\n",
    "\n",
    "See: https://www.nist.gov/director/licensing"
   ]
  },
  {
   "cell_type": "markdown",
   "metadata": {},
   "source": [
    "## Packages used in this Jupyter Notebook"
   ]
  },
  {
   "cell_type": "markdown",
   "metadata": {},
   "source": [
    "#### Install packages not found in conda\n",
    "- Only needs to be installed during first run\n",
    "- Commented out, but provided for reference"
   ]
  },
  {
   "cell_type": "code",
   "execution_count": null,
   "metadata": {},
   "outputs": [],
   "source": [
    "#%pip install fortranformat\n",
    "#%pip install mplstereonet\n",
    "\n",
    "## Need the development release of mplstereonet to work with matplotlib 3.2.2\n",
    "## https://github.com/joferkington/mplstereonet/issues/34 \n",
    "#%pip install https://github.com/joferkington/mplstereonet/zipball/master"
   ]
  },
  {
   "cell_type": "markdown",
   "metadata": {},
   "source": [
    "#### Import Common Modules"
   ]
  },
  {
   "cell_type": "code",
   "execution_count": null,
   "metadata": {},
   "outputs": [],
   "source": [
    "import fortranformat as ff\n",
    "import numpy as np \n",
    "import pandas as pd\n",
    "import scipy as scipy\n",
    "from scipy import interpolate \n",
    "from scipy import signal\n",
    "import matplotlib.pyplot as plt\n",
    "import mplstereonet\n",
    "import math\n",
    "import os\n",
    "from importlib import reload"
   ]
  },
  {
   "cell_type": "markdown",
   "metadata": {},
   "source": [
    "#### Import Custom modules"
   ]
  },
  {
   "cell_type": "code",
   "execution_count": null,
   "metadata": {},
   "outputs": [],
   "source": [
    "# Custom modules\n",
    "import TextureSampling\n",
    "import PlotTexture"
   ]
  },
  {
   "cell_type": "markdown",
   "metadata": {},
   "source": [
    "#### Reload Modules as needed after making changes to them externally"
   ]
  },
  {
   "cell_type": "code",
   "execution_count": null,
   "metadata": {},
   "outputs": [],
   "source": [
    "# When needed to after changes\n",
    "reload(TextureSampling)\n",
    "reload(PlotTexture)"
   ]
  },
  {
   "cell_type": "markdown",
   "metadata": {},
   "source": [
    "#### Example functions for the Texture Sampling Module\n",
    "- Commented out, but included for reference"
   ]
  },
  {
   "cell_type": "code",
   "execution_count": null,
   "metadata": {},
   "outputs": [],
   "source": [
    "#TextureSampling.SingleOrientation(\"ND Single\", 0.0,0.0)\n",
    "#TextureSampling.RingPerpND(5.0)\n",
    "#TextureSampling.RingPerpRD(5.0)\n",
    "#TextureSampling.RingPerpTD(5.0)\n",
    "#TextureSampling.TiltRotate(\"NoRotation-tilt60deg\", 120.0, 1600.0, 0.0,60.0,56.0)\n",
    "#TextureSampling.HexGrid(\"HexGrid-90degTilt5degRes\",60.0,22.5)"
   ]
  },
  {
   "cell_type": "markdown",
   "metadata": {},
   "source": [
    "### Example functions to read in data\n",
    "- currently .xpc files from MAUD and .txt files from Mtex are supported"
   ]
  },
  {
   "cell_type": "code",
   "execution_count": null,
   "metadata": {},
   "outputs": [],
   "source": [
    "cwd=os.getcwd()\n",
    "#print(cwd)"
   ]
  },
  {
   "cell_type": "markdown",
   "metadata": {},
   "source": [
    "#### Example .xpc reader"
   ]
  },
  {
   "cell_type": "code",
   "execution_count": null,
   "metadata": {},
   "outputs": [],
   "source": [
    "# # Test functions that need a file path\n",
    "\n",
    "# # Set paths for data\n",
    "# xpcdatapath=os.path.abspath(os.path.join(cwd, '..', 'MAUD', 'XPCFiles'))\n",
    "# IntensitesPath=os.path.abspath(os.path.join(cwd, 'AveragedIntensites'))\n",
    "# XPCfile=os.path.join(xpcdatapath, \"UniformA-HW50.xpc\")\n",
    "\n",
    "\n",
    "# # Read in an xpc file\n",
    "# (pfs,hkllist)=TextureSampling.xpcformat('xpc',XPCfile)\n",
    "# print(hkllist)\n",
    "# hkllist.index([1, 1, 1])\n",
    "# #print(pfs)"
   ]
  },
  {
   "cell_type": "markdown",
   "metadata": {},
   "source": [
    "#### Mtex reader"
   ]
  },
  {
   "cell_type": "code",
   "execution_count": null,
   "metadata": {},
   "outputs": [],
   "source": [
    "# ## test new mtex reader\n",
    "# cwd=os.getcwd()\n",
    "# mtexfolder=os.path.abspath(os.path.join(cwd, '..', 'Matlab', 'ChessData', 'Chess_AM_A-step1'))\n",
    "# #print(mtexfolder)\n",
    "# (pfs,hkllist)=TextureSampling.mtexPFformat(mtexfolder)\n",
    "# #TextureSampling.mtexPFformat(mtexfolder)\n",
    "# #print(pfs)"
   ]
  },
  {
   "cell_type": "markdown",
   "metadata": {},
   "source": [
    "#### Sum intensities example"
   ]
  },
  {
   "cell_type": "code",
   "execution_count": null,
   "metadata": {},
   "outputs": [],
   "source": [
    "# SchemeName,Coordinates=TextureSampling.HexGrid(\"HexGrid-90degTilt5degRes\",60.0,21.0)\n",
    "# TextureSampling.pfIntensitySum(SchemeName, pfs, Coordinates)"
   ]
  },
  {
   "cell_type": "markdown",
   "metadata": {},
   "source": [
    "### Example plotting functions "
   ]
  },
  {
   "cell_type": "markdown",
   "metadata": {},
   "source": [
    "#### Example to use mplstereonet directly"
   ]
  },
  {
   "cell_type": "code",
   "execution_count": null,
   "metadata": {},
   "outputs": [],
   "source": [
    "# fig = plt.figure(figsize=(8,9), dpi=600)\n",
    "# ax1 = fig.add_subplot(111, projection='stereonet')\n",
    "# ax1.set_azimuth_ticks([0,270], labels=['RD','TD'],fontsize=14)\n",
    "# ax1.plane(0.0, 90.0, 'k-', linewidth=1)\n",
    "# ax1.plane(90.0, 90.0, 'k-', linewidth=1)\n",
    "# ax1.annotate('ND', xy=(0, 0), xytext=(0.1,0.1), fontsize=14)\n",
    "# ax1.rotation=-90\n",
    "# print(ax1.get_rotation())\n",
    "# plt.show()"
   ]
  },
  {
   "cell_type": "markdown",
   "metadata": {},
   "source": [
    "#### Series of example plots\n",
    " - several examples included"
   ]
  },
  {
   "cell_type": "code",
   "execution_count": null,
   "metadata": {},
   "outputs": [],
   "source": [
    "# Plot ODF key\n",
    "# PlotTexture.ODFKey()\n",
    "\n",
    "# Plot different schemes on pole figures\n",
    "# SchemeName,Coordinates=TextureSampling.SingleOrientation(\"ND Single\", 0.0,0.0)\n",
    "# PlotTexture.SingleSchemePlot(SchemeName,Coordinates,'bS',10)\n",
    "\n",
    "# SchemeName,Coordinates=TextureSampling.HexGrid(\"HexGrid-90degTilt5degRes\",60.0,21.0)\n",
    "# PlotTexture.SingleSchemePlot(SchemeName,Coordinates,'bD',10)\n",
    "\n",
    "# With additional options\n",
    "# SchemeName,Coordinates=TextureSampling.HexGrid(\"HexGrid-90degTilt5degRes\",\n",
    "#                                               60.0,15, CoverageType=\"quad\", IncludeND=False)\n",
    "# PlotTexture.SingleSchemePlot(SchemeName,Coordinates,'bD',10)\n",
    "\n",
    "# Density contours\n",
    "# SchemeName,Coordinates=TextureSampling.HexGrid(\"HexGrid-90degTilt5degRes\",90.0,5.0)\n",
    "# PlotTexture.SingleSchemePlot(SchemeName,Coordinates,'mH',2, RDup=False)\n",
    "# PlotTexture.DensityContourPlot(SchemeName, Coordinates, RDup=False)\n",
    "\n",
    "# SchemeName,Coordinates=TextureSampling.RingRot(5.0,2.5, np.arange(-90, 91, 5 ),'X')\n",
    "# PlotTexture.SingleSchemePlot(SchemeName,Coordinates,'yo',2)\n",
    "# PlotTexture.DensityContourPlot(SchemeName, Coordinates)\n",
    "# PlotTexture.DensityContourPlot(SchemeName, Coordinates, Weights=True)\n"
   ]
  },
  {
   "cell_type": "markdown",
   "metadata": {},
   "source": [
    "#### Example Heatmaps\n",
    " - not currently working"
   ]
  },
  {
   "cell_type": "code",
   "execution_count": null,
   "metadata": {},
   "outputs": [],
   "source": [
    "# IntensitesPath=os.path.abspath(os.path.join(cwd, 'AveragedIntensities-AMExp'))\n",
    "# PlotTexture.PlotHeatmap(10,\"3Pairs-C\",\"RotRing Axis-Y Res-5.0 Theta-2.5 \",IntensitesPath, cbarRange=[0.2,0.3])"
   ]
  },
  {
   "cell_type": "code",
   "execution_count": null,
   "metadata": {},
   "outputs": [],
   "source": [
    "# When needed to after changes\n",
    "reload(TextureSampling)\n",
    "reload(PlotTexture)"
   ]
  },
  {
   "cell_type": "code",
   "execution_count": null,
   "metadata": {
    "scrolled": true
   },
   "outputs": [],
   "source": [
    "#PlotTexture.PlotTextureComponents(\"TRIP700F\", cwd, \"XPCFiles-Exp\", datatype='MAUD') #test function"
   ]
  },
  {
   "cell_type": "code",
   "execution_count": null,
   "metadata": {
    "scrolled": true
   },
   "outputs": [],
   "source": [
    "#PlotTexture.PlotTextureComponents(\"Chess_AM_A-step1\", cwd, 'ChessData',datatype='Mtex') #test function"
   ]
  },
  {
   "cell_type": "code",
   "execution_count": null,
   "metadata": {},
   "outputs": [],
   "source": []
  },
  {
   "cell_type": "markdown",
   "metadata": {},
   "source": [
    "#### Export coordinate list to .csv file"
   ]
  },
  {
   "cell_type": "code",
   "execution_count": null,
   "metadata": {},
   "outputs": [],
   "source": [
    "# Coordinates.to_csv(\"Coords.csv\")"
   ]
  },
  {
   "cell_type": "code",
   "execution_count": null,
   "metadata": {},
   "outputs": [],
   "source": []
  },
  {
   "cell_type": "code",
   "execution_count": null,
   "metadata": {},
   "outputs": [],
   "source": []
  },
  {
   "cell_type": "markdown",
   "metadata": {},
   "source": [
    "## Create a dataframe of different Schemes, Coordinates, plot commands\n",
    " - includes schemes from 2018 paper and new (2021) schemes"
   ]
  },
  {
   "cell_type": "code",
   "execution_count": null,
   "metadata": {},
   "outputs": [],
   "source": [
    "column_names = [\"SchemeName\", \"Coordinates\", \"MarkerType\", \"MarkerSize\"]\n",
    "SchemeDF = pd.DataFrame(columns = column_names)\n",
    "\n",
    "# Single Orientations\n",
    "SchemeName,Coordinates=TextureSampling.SingleOrientation(\"ND Single\", 0.0,0.0)\n",
    "SchemeDF=SchemeDF.append(pd.DataFrame(data=[[SchemeName, Coordinates,'bS',10]], \n",
    "                                      columns = column_names),ignore_index=True)\n",
    "SchemeName,Coordinates=TextureSampling.SingleOrientation(\"RD Single\", 90.0,0.0)\n",
    "SchemeDF=SchemeDF.append(pd.DataFrame(data=[[SchemeName, Coordinates,'rS',10]], \n",
    "                                      columns = column_names),ignore_index=True)\n",
    "SchemeName,Coordinates=TextureSampling.SingleOrientation(\"TD Single\", 90.0,90.0)\n",
    "SchemeDF=SchemeDF.append(pd.DataFrame(data=[[SchemeName, Coordinates,'gS',10]], \n",
    "                                      columns = column_names),ignore_index=True)\n",
    "SchemeName,Coordinates=TextureSampling.SingleOrientation(\"Morris Single\", 60.0,90.0)\n",
    "SchemeDF=SchemeDF.append(pd.DataFrame(data=[[SchemeName, Coordinates,'yS',10]], \n",
    "                                      columns = column_names),ignore_index=True)\n",
    "                    \n",
    "## Ring Schemes\n",
    "\n",
    "SchemeName,Coordinates=TextureSampling.RingPerpND(5.0)\n",
    "SchemeDF=SchemeDF.append(pd.DataFrame(data=[[SchemeName, Coordinates,'b+',10]], \n",
    "                                      columns = column_names),ignore_index=True)\n",
    "SchemeName,Coordinates=TextureSampling.RingPerpRD(5.0)\n",
    "SchemeDF=SchemeDF.append(pd.DataFrame(data=[[SchemeName, Coordinates,'r+',10]], \n",
    "                                      columns = column_names),ignore_index=True)\n",
    "SchemeName,Coordinates=TextureSampling.RingPerpTD(5.0)\n",
    "SchemeDF=SchemeDF.append(pd.DataFrame(data=[[SchemeName, Coordinates,'g+',10]], \n",
    "                                      columns = column_names),ignore_index=True)\n",
    "\n",
    "# Tilt and Rotate Schemes\n",
    "SchemeName,Coordinates=TextureSampling.TiltRotate(\"NoRotation-tilt60deg\", 120.0, 1600.0, 0.0,60.0,56.0)\n",
    "SchemeDF=SchemeDF.append(pd.DataFrame(data=[[SchemeName, Coordinates,'cd',4]], \n",
    "                                      columns = column_names),ignore_index=True)\n",
    "SchemeName,Coordinates=TextureSampling.TiltRotate(\"Rotation-NoTilt\", 120.0, 1600.0, 30.0,0.0,56.0)\n",
    "SchemeDF=SchemeDF.append(pd.DataFrame(data=[[SchemeName, Coordinates,'cd',4]], \n",
    "                                      columns = column_names),ignore_index=True)\n",
    "SchemeName,Coordinates=TextureSampling.TiltRotate(\"Rotation-60detTilt\", 120.0, 5000.0, 30.0,60.0,56.0)\n",
    "SchemeDF=SchemeDF.append(pd.DataFrame(data=[[SchemeName, Coordinates,'cd',4]], \n",
    "                                      columns = column_names),ignore_index=True)\n",
    "        \n",
    "# Hex Grids Schemes      \n",
    "SchemeName,Coordinates=TextureSampling.HexGrid(\"HexGrid-90degTilt5degRes\",90.0,5.0)\n",
    "SchemeDF=SchemeDF.append(pd.DataFrame(data=[[SchemeName, Coordinates,'mh',4]], \n",
    "                                      columns = column_names),ignore_index=True)\n",
    "SchemeName,Coordinates=TextureSampling.HexGrid(\"HexGrid-90degTilt22p5degRes\",60.0,5.0)\n",
    "SchemeDF=SchemeDF.append(pd.DataFrame(data=[[SchemeName, Coordinates,'mh',4]], \n",
    "                                      columns = column_names),ignore_index=True)\n",
    "SchemeName,Coordinates=TextureSampling.HexGrid(\"HexGrid-60degTilt5degRes\",60.0,22.5)\n",
    "SchemeDF=SchemeDF.append(pd.DataFrame(data=[[SchemeName, Coordinates,'mh',4]], \n",
    "                                      columns = column_names),ignore_index=True)\n",
    "\n",
    "# Used in DXC and Mines Fall 2020 Report\n",
    "## Cube Corner\n",
    "SchemeName,Coordinates=TextureSampling.HexGrid(\"HexGrid-CC-5degRes\",\n",
    "                                               90.0,5, CoverageType=\"quad\", IncludeND=False)\n",
    "SchemeDF=SchemeDF.append(pd.DataFrame(data=[[SchemeName, Coordinates,'mh',4]], \n",
    "                                      columns = column_names),ignore_index=True)\n",
    "\n",
    "SchemeName,Coordinates=TextureSampling.HexGrid(\"HexGrid-CC-15degRes\",\n",
    "                                               90.0,15, CoverageType=\"quad\", IncludeND=False)\n",
    "SchemeDF=SchemeDF.append(pd.DataFrame(data=[[SchemeName, Coordinates,'mh',4]], \n",
    "                                      columns = column_names),ignore_index=True)\n",
    "\n",
    "SchemeName,Coordinates=TextureSampling.HexGrid(\"HexGrid-CC-22p5degRes\",\n",
    "                                               90.0,22.5, CoverageType=\"quad\", IncludeND=False)\n",
    "SchemeDF=SchemeDF.append(pd.DataFrame(data=[[SchemeName, Coordinates,'mh',4]], \n",
    "                                      columns = column_names),ignore_index=True)\n",
    "\n",
    "SchemeName,Coordinates=TextureSampling.HexGrid(\"HexGrid-CC-30degRes\",\n",
    "                                               90.0,30, CoverageType=\"quad\", IncludeND=False)\n",
    "SchemeDF=SchemeDF.append(pd.DataFrame(data=[[SchemeName, Coordinates,'mh',4]], \n",
    "                                      columns = column_names),ignore_index=True)\n",
    "## Sheet Normal\n",
    "SchemeName,Coordinates=TextureSampling.HexGrid(\"HexGrid-SN-5degRes\",\n",
    "                                               60.0,5, CoverageType=\"quad\", IncludeND=False)\n",
    "SchemeDF=SchemeDF.append(pd.DataFrame(data=[[SchemeName, Coordinates,'mh',4]], \n",
    "                                      columns = column_names),ignore_index=True)\n",
    "\n",
    "SchemeName,Coordinates=TextureSampling.HexGrid(\"HexGrid-SN-15degRes\",\n",
    "                                               60.0,15, CoverageType=\"quad\", IncludeND=False)\n",
    "SchemeDF=SchemeDF.append(pd.DataFrame(data=[[SchemeName, Coordinates,'mh',4]], \n",
    "                                      columns = column_names),ignore_index=True)\n",
    "\n",
    "SchemeName,Coordinates=TextureSampling.HexGrid(\"HexGrid-SN-22p5degRes\",\n",
    "                                               60.0,22.5, CoverageType=\"quad\", IncludeND=False)\n",
    "SchemeDF=SchemeDF.append(pd.DataFrame(data=[[SchemeName, Coordinates,'mh',4]], \n",
    "                                      columns = column_names),ignore_index=True)\n",
    "\n",
    "SchemeName,Coordinates=TextureSampling.HexGrid(\"HexGrid-SN-30degRes\",\n",
    "                                               60.0,30, CoverageType=\"quad\", IncludeND=False)\n",
    "SchemeDF=SchemeDF.append(pd.DataFrame(data=[[SchemeName, Coordinates,'mh',4]], \n",
    "                                      columns = column_names),ignore_index=True)\n",
    "\n",
    "## Rotated Rings, using calculated theta angle\n",
    "# Additional entries for partial rings\n",
    "#Austenite 111\n",
    "SchemeName,Coordinates=TextureSampling.RingRot(5.0,2.84623415, np.arange(-90, 91, 5 ),'Y')\n",
    "SchemeDF=SchemeDF.append(pd.DataFrame(data=[[SchemeName, Coordinates,'yo',4]], \n",
    "                                      columns = column_names),ignore_index=True)\n",
    "\n",
    "SchemeName,Coordinates=TextureSampling.RingRot(5.0,2.84623415, np.arange(-90, 91, 5 ),'Y', Weight=True)\n",
    "SchemeDF=SchemeDF.append(pd.DataFrame(data=[[SchemeName, Coordinates,'yo',4]], \n",
    "                                      columns = column_names),ignore_index=True)\n",
    "\n",
    "SchemeName,Coordinates=TextureSampling.RingRot(5.0,2.84623415, np.arange(-60, 61, 5 ),'Y')\n",
    "SchemeDF=SchemeDF.append(pd.DataFrame(data=[[SchemeName, Coordinates,'yo',4]], \n",
    "                                      columns = column_names),ignore_index=True)\n",
    "\n",
    "SchemeName,Coordinates=TextureSampling.RingRot(5.0,2.84623415, np.arange(-30, 31, 5 ),'Y')\n",
    "SchemeDF=SchemeDF.append(pd.DataFrame(data=[[SchemeName, Coordinates,'yo',4]], \n",
    "                                      columns = column_names),ignore_index=True)\n",
    "\n",
    "#Austenite 200\n",
    "SchemeName,Coordinates=TextureSampling.RingRot(5.0,3.28699929, np.arange(-90, 91, 5 ),'Y')\n",
    "SchemeDF=SchemeDF.append(pd.DataFrame(data=[[SchemeName, Coordinates,'yo',4]], \n",
    "                                      columns = column_names),ignore_index=True)\n",
    "\n",
    "SchemeName,Coordinates=TextureSampling.RingRot(5.0,3.28699929, np.arange(-90, 91, 5 ),'Y', Weight=True)\n",
    "SchemeDF=SchemeDF.append(pd.DataFrame(data=[[SchemeName, Coordinates,'yo',4]], \n",
    "                                      columns = column_names),ignore_index=True)\n",
    "\n",
    "SchemeName,Coordinates=TextureSampling.RingRot(5.0,3.28699929, np.arange(-60, 61, 5 ),'Y')\n",
    "SchemeDF=SchemeDF.append(pd.DataFrame(data=[[SchemeName, Coordinates,'yo',4]], \n",
    "                                      columns = column_names),ignore_index=True)\n",
    "\n",
    "SchemeName,Coordinates=TextureSampling.RingRot(5.0,3.28699929, np.arange(-30, 31, 5 ),'Y')\n",
    "SchemeDF=SchemeDF.append(pd.DataFrame(data=[[SchemeName, Coordinates,'yo',4]], \n",
    "                                      columns = column_names),ignore_index=True)\n",
    "\n",
    "#Austenite 220\n",
    "SchemeName,Coordinates=TextureSampling.RingRot(5.0,4.65107599, np.arange(-90, 91, 5 ),'Y')\n",
    "SchemeDF=SchemeDF.append(pd.DataFrame(data=[[SchemeName, Coordinates,'yo',4]], \n",
    "                                      columns = column_names),ignore_index=True)\n",
    "\n",
    "SchemeName,Coordinates=TextureSampling.RingRot(5.0,4.65107599, np.arange(-90, 91, 5 ),'Y', Weight=True)\n",
    "SchemeDF=SchemeDF.append(pd.DataFrame(data=[[SchemeName, Coordinates,'yo',4]], \n",
    "                                      columns = column_names),ignore_index=True)\n",
    "\n",
    "SchemeName,Coordinates=TextureSampling.RingRot(5.0,4.65107599, np.arange(-60, 61, 5 ),'Y')\n",
    "SchemeDF=SchemeDF.append(pd.DataFrame(data=[[SchemeName, Coordinates,'yo',4]], \n",
    "                                      columns = column_names),ignore_index=True)\n",
    "\n",
    "SchemeName,Coordinates=TextureSampling.RingRot(5.0,4.65107599, np.arange(-30, 31, 5 ),'Y')\n",
    "SchemeDF=SchemeDF.append(pd.DataFrame(data=[[SchemeName, Coordinates,'yo',4]], \n",
    "                                      columns = column_names),ignore_index=True)\n",
    "#Martensite 110\n",
    "SchemeName,Coordinates=TextureSampling.RingRot(5.0,2.79042653, np.arange(-90, 91, 5 ),'Y')\n",
    "SchemeDF=SchemeDF.append(pd.DataFrame(data=[[SchemeName, Coordinates,'yo',4]], \n",
    "                                      columns = column_names),ignore_index=True)\n",
    "\n",
    "SchemeName,Coordinates=TextureSampling.RingRot(5.0,2.79042653, np.arange(-90, 91, 5 ),'Y', Weight=True)\n",
    "SchemeDF=SchemeDF.append(pd.DataFrame(data=[[SchemeName, Coordinates,'yo',4]], \n",
    "                                      columns = column_names),ignore_index=True)\n",
    "\n",
    "SchemeName,Coordinates=TextureSampling.RingRot(5.0,2.79042653, np.arange(-60, 61, 5 ),'Y')\n",
    "SchemeDF=SchemeDF.append(pd.DataFrame(data=[[SchemeName, Coordinates,'yo',4]], \n",
    "                                      columns = column_names),ignore_index=True)\n",
    "\n",
    "SchemeName,Coordinates=TextureSampling.RingRot(5.0,2.79042653, np.arange(-30, 31, 5 ),'Y')\n",
    "SchemeDF=SchemeDF.append(pd.DataFrame(data=[[SchemeName, Coordinates,'yo',4]], \n",
    "                                      columns = column_names),ignore_index=True)\n",
    "\n",
    "#Martensite 200\n",
    "SchemeName,Coordinates=TextureSampling.RingRot(5.0,3.94782221, np.arange(-90, 91, 5 ),'Y')\n",
    "SchemeDF=SchemeDF.append(pd.DataFrame(data=[[SchemeName, Coordinates,'yo',4]], \n",
    "                                      columns = column_names),ignore_index=True)\n",
    "\n",
    "SchemeName,Coordinates=TextureSampling.RingRot(5.0,3.94782221, np.arange(-90, 91, 5 ),'Y', Weight=True)\n",
    "SchemeDF=SchemeDF.append(pd.DataFrame(data=[[SchemeName, Coordinates,'yo',4]], \n",
    "                                      columns = column_names),ignore_index=True)\n",
    "\n",
    "SchemeName,Coordinates=TextureSampling.RingRot(5.0,3.94782221, np.arange(-60, 61, 5 ),'Y')\n",
    "SchemeDF=SchemeDF.append(pd.DataFrame(data=[[SchemeName, Coordinates,'yo',4]], \n",
    "                                      columns = column_names),ignore_index=True)\n",
    "\n",
    "SchemeName,Coordinates=TextureSampling.RingRot(5.0,3.94782221, np.arange(-30, 31, 5 ),'Y')\n",
    "SchemeDF=SchemeDF.append(pd.DataFrame(data=[[SchemeName, Coordinates,'yo',4]], \n",
    "                                      columns = column_names),ignore_index=True)\n",
    "#Martensite 220\n",
    "SchemeName,Coordinates=TextureSampling.RingRot(5.0,4.8369936, np.arange(-90, 91, 5 ),'Y')\n",
    "SchemeDF=SchemeDF.append(pd.DataFrame(data=[[SchemeName, Coordinates,'yo',4]], \n",
    "                                      columns = column_names),ignore_index=True)\n",
    "\n",
    "SchemeName,Coordinates=TextureSampling.RingRot(5.0,4.8369936, np.arange(-90, 91, 5 ),'Y', Weight=True)\n",
    "SchemeDF=SchemeDF.append(pd.DataFrame(data=[[SchemeName, Coordinates,'yo',4]], \n",
    "                                      columns = column_names),ignore_index=True)\n",
    "\n",
    "SchemeName,Coordinates=TextureSampling.RingRot(5.0,4.8369936, np.arange(-60, 61, 5 ),'Y')\n",
    "SchemeDF=SchemeDF.append(pd.DataFrame(data=[[SchemeName, Coordinates,'yo',4]], \n",
    "                                      columns = column_names),ignore_index=True)\n",
    "\n",
    "SchemeName,Coordinates=TextureSampling.RingRot(5.0,4.8369936, np.arange(-30, 31, 5 ),'Y')\n",
    "SchemeDF=SchemeDF.append(pd.DataFrame(data=[[SchemeName, Coordinates,'yo',4]], \n",
    "                                      columns = column_names),ignore_index=True)\n",
    "\n",
    "# SchemeDF"
   ]
  },
  {
   "cell_type": "code",
   "execution_count": null,
   "metadata": {},
   "outputs": [],
   "source": [
    "# SchemeName,Coordinates=TextureSampling.RingRot(5.0,2.5, np.arange(-90, 91, 5 ),'Y', Weight=True)\n",
    "# Coordinates.to_csv(\"Coords.csv\")"
   ]
  },
  {
   "cell_type": "code",
   "execution_count": null,
   "metadata": {},
   "outputs": [],
   "source": [
    "# When needed to after changes\n",
    "reload(TextureSampling)\n",
    "reload(PlotTexture)"
   ]
  },
  {
   "cell_type": "code",
   "execution_count": null,
   "metadata": {},
   "outputs": [],
   "source": [
    "# Save Path\n",
    "NewFolder=\"Draft-RingRotate-rev2021Jul02\"\n",
    "OutputPath=os.path.abspath(os.path.join(cwd, '..', 'OutputFiles',NewFolder))\n",
    "os.makedirs(OutputPath,exist_ok=True)\n"
   ]
  },
  {
   "cell_type": "code",
   "execution_count": null,
   "metadata": {},
   "outputs": [],
   "source": [
    "#### Plot the weighted and unweighted data"
   ]
  },
  {
   "cell_type": "code",
   "execution_count": null,
   "metadata": {
    "scrolled": true
   },
   "outputs": [],
   "source": [
    "# Unweighted\n",
    "SchemeName,Coordinates=TextureSampling.RingRot(5.0,2.5, np.arange(-90, 91, 5 ),'Y')\n",
    "PlotTexture.SingleSchemePlot(SchemeName,Coordinates,'ko',2,RD=False,RDup=False,\n",
    "                             save=True, savename=os.path.abspath(os.path.join(OutputPath,\"Chess-2p5theta.png\")))\n",
    "PlotTexture.DensityContourPlot(SchemeName, Coordinates, save=True,RDup=False,\n",
    "                               savename=os.path.abspath(os.path.join(OutputPath,\"Chess-2p5theta-contour.png\")))\n",
    "\n",
    "SchemeName,Coordinates=TextureSampling.RingRot(5.0,5.0, np.arange(-90, 91, 5 ),'Y')\n",
    "PlotTexture.SingleSchemePlot(SchemeName,Coordinates,'ko',2,RD=False,RDup=False,\n",
    "                             save=True, savename=os.path.abspath(os.path.join(OutputPath,\"Chess-5p0theta.png\")))\n",
    "PlotTexture.DensityContourPlot(SchemeName, Coordinates, save=True,RDup=False,\n",
    "                               savename=os.path.abspath(os.path.join(OutputPath,\"Chess-5p0theta-contour.png\")))\n",
    "\n",
    "SchemeName,Coordinates=TextureSampling.RingRot(5.0,2.5, np.arange(-60, 61, 5 ),'Y')\n",
    "PlotTexture.SingleSchemePlot(SchemeName,Coordinates,'ko',2,RD=False,RDup=False,\n",
    "                             save=True, savename=os.path.abspath(os.path.join(OutputPath,\"Chess-2p5theta-omega60.png\")))\n",
    "PlotTexture.DensityContourPlot(SchemeName, Coordinates, save=True,RDup=False,\n",
    "                               savename=os.path.abspath(os.path.join(OutputPath,\"Chess-2p5theta-omega60-contour.png\")))\n",
    "\n",
    "SchemeName,Coordinates=TextureSampling.RingRot(5.0,2.5, np.arange(-30, 31, 5 ),'Y')\n",
    "PlotTexture.SingleSchemePlot(SchemeName,Coordinates,'ko',2,RD=False,RDup=False,\n",
    "                             save=True, savename=os.path.abspath(os.path.join(OutputPath,\"Chess-2p5theta-omega30.png\")))\n",
    "PlotTexture.DensityContourPlot(SchemeName, Coordinates, save=True,RDup=False,\n",
    "                               savename=os.path.abspath(os.path.join(OutputPath,\"Chess-2p5theta-omega30-contour.png\")))\n",
    "\n",
    "\n",
    "\n",
    "# Weighted\n",
    "\n",
    "SchemeName,Coordinates=TextureSampling.RingRot(5.0,2.5, np.arange(-90, 91, 5 ),'Y', Weight=True)\n",
    "PlotTexture.SingleSchemePlot(SchemeName,Coordinates,'ko',2,RD=False,RDup=False)\n",
    "PlotTexture.DensityContourPlot(SchemeName, Coordinates, Weights=True,RDup=False, save=True,\n",
    "                               savename=os.path.abspath(os.path.join(OutputPath,\"Chess-2p5theta-contour-weighted.png\")))\n",
    "\n",
    "SchemeName,Coordinates=TextureSampling.RingRot(5.0,5.0, np.arange(-90, 91, 5 ),'Y', Weight=True)\n",
    "PlotTexture.SingleSchemePlot(SchemeName,Coordinates,'ko',2,RD=False,RDup=False)\n",
    "PlotTexture.DensityContourPlot(SchemeName, Coordinates, RDup=False,Weights=True, save=True,\n",
    "                               savename=os.path.abspath(os.path.join(OutputPath,\"Chess-5p0theta-contour-weighted.png\")))\n",
    "\n",
    "#Coordinates.to_csv(\"Coords.csv\")"
   ]
  },
  {
   "cell_type": "markdown",
   "metadata": {},
   "source": [
    "### Create Average Intensities Spreadsheets\n",
    "- This step can take a while depending on the number of pole figures and sampling schemes"
   ]
  },
  {
   "cell_type": "code",
   "execution_count": null,
   "metadata": {},
   "outputs": [],
   "source": [
    "## Test Generation of Average Intensities from dataframe\n",
    "# Experimental data from CHESS \n",
    "# Mtex data format\n",
    "\n",
    "# Get the current working directory path\n",
    "cwd=os.getcwd()\n",
    "Mtexdatapath=os.path.abspath(os.path.join(cwd, '..', 'Matlab', 'ChessData'))\n",
    "IntensitesPath=os.path.abspath(os.path.join(cwd, 'AveragedIntensities-AMExp-2021Jun25'))\n",
    "TextureSampling.GenerateAveIntesity(SchemeDF,\"mtex\", Mtexdatapath, IntensitesPath)"
   ]
  },
  {
   "cell_type": "code",
   "execution_count": null,
   "metadata": {},
   "outputs": [],
   "source": [
    "## Test Generation of Average Intensities from dataframe\n",
    "# Experimental data from 2018 paper\n",
    "\n",
    "# Get the current working directory path\n",
    "cwd=os.getcwd()\n",
    "xpcdatapath=os.path.abspath(os.path.join(cwd, '..', 'MAUD', 'XPCFiles-Exp'))\n",
    "IntensitesPath=os.path.abspath(os.path.join(cwd, 'AveragedIntensities-Exp-2021Jun25'))\n",
    "TextureSampling.GenerateAveIntesity(SchemeDF, \"xpc\",xpcdatapath, IntensitesPath)"
   ]
  },
  {
   "cell_type": "code",
   "execution_count": null,
   "metadata": {},
   "outputs": [],
   "source": [
    "## Test Generation of Average Intensities from dataframe\n",
    "# Simulated data \n",
    "\n",
    "# Get the current working directory path\n",
    "cwd=os.getcwd()\n",
    "xpcdatapath=os.path.abspath(os.path.join(cwd, '..', 'MAUD', 'XPCFiles'))\n",
    "IntensitesPath=os.path.abspath(os.path.join(cwd, 'AveragedIntensities-Sim-2021Jun25'))\n",
    "TextureSampling.GenerateAveIntesity(SchemeDF, \"xpc\", xpcdatapath, IntensitesPath)\n"
   ]
  },
  {
   "cell_type": "markdown",
   "metadata": {},
   "source": [
    "### Plot heatmaps of the simulated data"
   ]
  },
  {
   "cell_type": "code",
   "execution_count": null,
   "metadata": {},
   "outputs": [],
   "source": [
    "IntensitesPath=os.path.abspath(os.path.join(cwd, 'AveragedIntensities-Sim-2021Jun25'))\n",
    "print(IntensitesPath)"
   ]
  },
  {
   "cell_type": "code",
   "execution_count": null,
   "metadata": {},
   "outputs": [],
   "source": [
    "# When needed to after changes\n",
    "reload(TextureSampling)\n",
    "reload(PlotTexture)"
   ]
  },
  {
   "cell_type": "code",
   "execution_count": null,
   "metadata": {},
   "outputs": [],
   "source": []
  },
  {
   "cell_type": "code",
   "execution_count": null,
   "metadata": {
    "scrolled": false
   },
   "outputs": [],
   "source": [
    "# Test Heatmap\n",
    "#PlotTexture.PlotHeatmap(20,\"2Pairs-A\",\"ND Single\",IntensitesPath)\n",
    "#PlotTexture.PlotHeatmap(20,\"3Pairs-A\",\"ND Single\",IntensitesPath)\n",
    "PlotTexture.PlotHeatmap(20,\"1Pair-A\",\"RotRing Axis-Y Res-5.0 Theta-2.79042653 OmegaMax-90\",\n",
    "                        IntensitesPath, VF=.54,cbarRange=[0.40,0.68],ncolors=28*2,save=True, AddTitle=False,\n",
    "                        savename=os.path.abspath(os.path.join(OutputPath,'Chess-1pairA-omega90-rev2021Jul02.png')))\n",
    "PlotTexture.PlotHeatmap(20,\"1Pair-A\",\"RotRing Axis-Y Res-5.0 Theta-2.79042653 OmegaMax-90 Weighted\",\n",
    "                        IntensitesPath, VF=.54,cbarRange=[0.40,0.68],ncolors=28*2,save=True, AddTitle=False,\n",
    "                        savename=os.path.abspath(os.path.join(OutputPath,'Chess-1pairA-omega90W-rev2021Jul02.png')))\n",
    "PlotTexture.PlotHeatmap(20,\"1Pair-A\",\"RotRing Axis-Y Res-5.0 Theta-2.79042653 OmegaMax-60\",\n",
    "                        IntensitesPath, VF=.54,cbarRange=[0.40,0.68],ncolors=28*2,save=True, AddTitle=False,\n",
    "                        savename=os.path.abspath(os.path.join(OutputPath,'Chess-1pairA-omega60-rev2021Jul02.png')))\n",
    "PlotTexture.PlotHeatmap(20,\"1Pair-A\",\"RotRing Axis-Y Res-5.0 Theta-2.79042653 OmegaMax-30\",\n",
    "                        IntensitesPath, VF=.54,cbarRange=[0.40,0.68],ncolors=28*2,save=True, AddTitle=False,\n",
    "                        savename=os.path.abspath(os.path.join(OutputPath,'Chess-1pairA-omega30-rev2021Jul02.png')))\n",
    "PlotTexture.PlotHeatmap(20,\"3Pairs-C\",\"RotRing Axis-Y Res-5.0 Theta-2.79042653 OmegaMax-90\",\n",
    "                        IntensitesPath, VF=.54,cbarRange=[0.40,0.68],ncolors=28*2,save=True, AddTitle=False,\n",
    "                        savename=os.path.abspath(os.path.join(OutputPath,'Chess-3pairsC-omega90-rev2021Jul02.png')))\n",
    "\n",
    "#PlotTexture.PlotHeatmap(20,\"3Pairs-C\",\"RotRing Axis-Y Res-5.0 Theta-5.0 \",IntensitesPath,cbarMap='grey', cbarRange=[0.2,0.3])"
   ]
  },
  {
   "cell_type": "code",
   "execution_count": null,
   "metadata": {},
   "outputs": [],
   "source": []
  }
 ],
 "metadata": {
  "anaconda-cloud": {},
  "kernelspec": {
   "display_name": "Python 3",
   "language": "python",
   "name": "python3"
  },
  "language_info": {
   "codemirror_mode": {
    "name": "ipython",
    "version": 3
   },
   "file_extension": ".py",
   "mimetype": "text/x-python",
   "name": "python",
   "nbconvert_exporter": "python",
   "pygments_lexer": "ipython3",
   "version": "3.7.7"
  }
 },
 "nbformat": 4,
 "nbformat_minor": 1
}
