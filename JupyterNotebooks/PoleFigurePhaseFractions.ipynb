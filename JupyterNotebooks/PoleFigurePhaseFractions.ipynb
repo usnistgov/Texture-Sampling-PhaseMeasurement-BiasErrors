{
 "cells": [
  {
   "cell_type": "markdown",
   "metadata": {},
   "source": [
    "# PoleFigurePhaseFractions.ipynb\n",
    "Written by Adam Creuziger (adam.creuziger@nist.gov)\n",
    "\n",
    "Oct 2017\n",
    "\n",
    "    This data was developed by employees of the National Institute of Standards and Technology (NIST), an agency of the Federal Government. Pursuant to title 17 United States Code Section 105, works of NIST employees are not subject to copyright protection in the United States and are considered to be in the public domain.\n",
    "\n",
    "    The data is provided by NIST as a public service and is expressly provided \"AS IS.\" NIST MAKES NO WARRANTY OF ANY KIND, EXPRESS, IMPLIED OR STATUTORY, INCLUDING, WITHOUT LIMITATION, THE IMPLIED WARRANTY OF MERCHANTABILITY, FITNESS FOR A PARTICULAR PURPOSE, NON-INFRINGEMENT AND DATA ACCURACY. NIST does not warrant or make any representations regarding the use of the data or the results thereof, including but not limited to the correctness, accuracy, reliability or usefulness of the data. NIST SHALL NOT BE LIABLE AND YOU HEREBY RELEASE NIST FROM LIABILITY FOR ANY INDIRECT, CONSEQUENTIAL, SPECIAL, OR INCIDENTAL DAMAGES (INCLUDING DAMAGES FOR LOSS OF BUSINESS PROFITS, BUSINESS INTERRUPTION, LOSS OF BUSINESS INFORMATION, AND THE LIKE), WHETHER ARISING IN TORT, CONTRACT, OR OTHERWISE, ARISING FROM OR RELATING TO THE DATA (OR THE USE OF OR INABILITY TO USE THIS DATA), EVEN IF NIST HAS BEEN ADVISED OF THE POSSIBILITY OF SUCH DAMAGES.\n",
    "\n",
    "    To the extent that NIST may hold copyright in countries other than the United States, you are hereby granted the non-exclusive irrevocable and unconditional right to print, publish, prepare derivative works and distribute the NIST data, in any medium, or authorize others to do so on your behalf, on a royalty-free basis throughout the world.\n",
    "\n",
    "    You may improve, modify, and create derivative works of the data or any portion of the data, and you may copy and distribute such modifications or works. Modified works should carry a notice stating that you changed the data and should note the date and nature of any such change. Please explicitly acknowledge the National Institute of Standards and Technology as the source of the data: Data citation recommendations are provided below.\n",
    "\n",
    "    Permission to use this data is contingent upon your acceptance of the terms of this agreement and upon your providing appropriate acknowledgments of NIST's creation of the data.\n",
    "\n",
    "\n",
    "See: https://www.nist.gov/director/licensing"
   ]
  },
  {
   "cell_type": "markdown",
   "metadata": {},
   "source": [
    "## Packages used in this Jupyter Notebook"
   ]
  },
  {
   "cell_type": "code",
   "execution_count": 1,
   "metadata": {
    "collapsed": true
   },
   "outputs": [],
   "source": [
    "import fortranformat as ff\n",
    "import numpy as np \n",
    "import pandas as pd\n",
    "import scipy as scipy\n",
    "from scipy import interpolate \n",
    "from scipy import signal\n",
    "import matplotlib.pyplot as plt\n",
    "import mplstereonet\n",
    "import math\n",
    "import os"
   ]
  },
  {
   "cell_type": "markdown",
   "metadata": {
    "collapsed": true
   },
   "source": [
    "## Function: Read in Polefigure in .xpc format\n",
    "MAUD uses an .xpc format for pole figures, likely derived from BearTex [1].  This format is similar to the General Intensity File Format in POPLA [2, appendix B2], with a slightly different header\n",
    "\n",
    "[1] http://eps.berkeley.edu/~wenk/TexturePage/beartex.htm\n",
    "\n",
    "[2] Popla Manual http://pajarito.materials.cmu.edu/rollett/27750/popLA_Manual.pdf\n"
   ]
  },
  {
   "cell_type": "code",
   "execution_count": null,
   "metadata": {
    "collapsed": true
   },
   "outputs": [],
   "source": [
    "#        Adapted .xpc format parser, from \n",
    "#        https://github.com/usnistgov/texture\n",
    "#        commit 9c0ac85\n",
    "#        Program upf.py\n",
    "# direct link: https://github.com/usnistgov/texture/blob/9c0ac8531276a5d8d27c0e895074ca66fda76608/src/upf.py\n",
    "\n",
    "# .xpc format\n",
    "# line with a phase, reflection and trailing '#' \n",
    "# 4 blank lines\n",
    "# 1 line with lattice parameters\n",
    "# 1 line with reflection and pole figure explaination\n",
    "# 4 lines, with 18 terms each, integers - fixed width (fortran format)\n",
    "\n",
    "\n",
    "def xpcformat(mode=None, filename=None):\n",
    "    \"\"\"\n",
    "    Experimental pole figure format controller\n",
    "    mode:\n",
    "  ->    \"steglich\"\n",
    "  ->    \"bruker\"  *.uxd file\n",
    "  ->    \"epf\" (2011-Oct-6) epf popLA experimental pole figure format\n",
    "    Returns the pole figure data as\n",
    "  ->  the standard format (m x n numpy array)\n",
    "  ->  each of axes stands for rotating (phi) and tilting (khi)\n",
    "  ->  angle in the laboratory space.\n",
    "    These angles will be angle and radius in the\n",
    "    space onto which a pole figure is projected.\n",
    "    conventions:\n",
    "     tilting angle: khi\n",
    "     rotating angle: phi\n",
    "     dk: incremental khi angle\n",
    "     dp: incremental phi angle\n",
    "     nk: number of points along khi axis\n",
    "     np: number of points along phi axis\n",
    "     angles are converted into radian whenever possible\n",
    "    Arguments\n",
    "    =========\n",
    "    mode     = None\n",
    "    filename = None\n",
    "    \"\"\"\n",
    "\n",
    "    print \"Pole Figure Parsing\"\n",
    "\n",
    "    if mode=='xpc':\n",
    "        \"\"\"\n",
    "        Adapted .xpc format parser, from \n",
    "        https://github.com/usnistgov/texture\n",
    "        commit 9c0ac85\n",
    "        based on ready made popLA epf format parser\n",
    "        consider the possibility of multiple number of polefigure\n",
    "        ## phi must be 0~355, khi must be 0~90 with 5 as an ang\n",
    "        resolution\n",
    "        \"\"\"\n",
    "        print 'You are now reading experimental pole figure(s) :%s'%filename\n",
    "        blocks = open(filename, 'rU').read().split('\\n\\n\\n\\n')[1:]\n",
    "        print 'There are %s blocks of data found'%len(blocks)\n",
    "        if len(blocks)==0:\n",
    "            msg1 = 'xpc parser in upf assumes that pole figures are separated by 4 new lines'\n",
    "            msg2 = ' searching %s finds no set of 4 new lines in '%filename\n",
    "            msg  = '%s \\n %s'%(msg1,msg2)\n",
    "            raise IOError, msg\n",
    "            # blocks = parse_epf(filename)\n",
    "        npf = len(blocks)\n",
    "        if npf==0: raise IOError, 'No pf block found.'\n",
    "\n",
    "        datasets = []; max_khi = []\n",
    "        if  npf>1: hkls=[\"HKL\"] ## multiple number of pole figures in a file\n",
    "        \n",
    "        for part in blocks:\n",
    "            line=part.split('\\n')\n",
    "            #print len(line)\n",
    "\n",
    "            structureline=ff.FortranRecordReader('(6f10.4,1x,i4,1x,i4)')\n",
    "            [a,b,c,alpha,beta,gamma,crystalclass,something]=structureline.read(line[1])   \n",
    "            pfDefline=ff.FortranRecordReader('(1x,3i3,6f5.1,2i2)')\n",
    "            [h,k,l,unknown1,tilt,tiltinc,unknown2,rotation,rotationinc,unknown3,unknown4]=pfDefline.read(line[2])\n",
    "            \n",
    "            #for the rest of the lines, do the following\n",
    "            dataline=ff.FortranRecordReader('(1x,18i4)')\n",
    "            \n",
    "            # Pretty ugly code, but works...\n",
    "            grouping=[[3,4,5,6],[7,8,9,10],[11,12,13,14],[15,16,17,18],[19,20,21,22],[23,24,25,26],\n",
    "                      [27,28,29,30],[31,32,33,34],[35,36,37,38],[39,40,41,42],[43,44,45,46],[47,48,49,50],\n",
    "                      [51,52,53,54],[55,56,57,58],[59,60,61,62],[63,64,65,66],[67,68,69,70],[71,72,73,74],\n",
    "                     [75,76,77,78]] \n",
    "            \n",
    "            \n",
    "            dataset=[]\n",
    "            for item in grouping:\n",
    "                #print item[0],item[1],item[2],item[3] \n",
    "                parsed=dataline.read(line[item[0]])\n",
    "                parsed.extend(dataline.read(line[item[1]]))\n",
    "                parsed.extend(dataline.read(line[item[2]]))\n",
    "                parsed.extend(dataline.read(line[item[3]]))\n",
    "                dataset.append(parsed)\n",
    "            #print dataset\n",
    "            \n",
    "            #Saves as a Pandas dataframe, and maps the 360 degree phi data from the 0 degree phi data\n",
    "            #row and column indexes are by degrees\n",
    "            df=pd.DataFrame(dataset, index=np.arange(0,91,5))\n",
    "            df.columns=[np.arange(0,360,5)]\n",
    "            df[360]=df.ix[:,0]\n",
    "            \n",
    "            # Save the hkl value\n",
    "            hkl = [h,k,l] #hkl\n",
    "            #print hkl\n",
    "            hkls.append(hkl)\n",
    "\n",
    "            datasets.append(df)\n",
    "            \n",
    "        #print hkls\n",
    "        print \"number of pole figures:\", len(datasets)\n",
    "\n",
    "        return datasets, hkls\n",
    "    else: raise IOError, 'Unexpected mode is given'\n",
    "    #return data"
   ]
  },
  {
   "cell_type": "markdown",
   "metadata": {
    "collapsed": true
   },
   "source": [
    "## Define function to take a pole figure (or series of pole figures) and series of coordinate pairs, returning an average intensity for all of the pole figures and coordinates"
   ]
  },
  {
   "cell_type": "code",
   "execution_count": null,
   "metadata": {
    "collapsed": true
   },
   "outputs": [],
   "source": [
    "def pfIntensitySum(name, PoleFigures, Coordinates):\n",
    "\n",
    "    \"\"\"\n",
    "    For each coordinate pair passed to this function, interpolate the pole figure to find intensity\n",
    "    Average intenisity for all coordinate pairs\n",
    "    Average intensity for all pole figures passed\n",
    "    \n",
    "    conventions:\n",
    "\n",
    "    Input Arguments\n",
    "    ========= \n",
    "    name: passed through program to help mark columns\n",
    "    PoleFigures - series of \n",
    "    -> FORMAT\n",
    "    Coordinates\n",
    "    -> FORMAT\n",
    "    array of coordinates (rotation,tilt)\n",
    "  \n",
    "    Output Arguments\n",
    "    ========= \n",
    "    AverageIntensity Array for each pole figure with average intensity \n",
    "    \"\"\"\n",
    "        \n",
    "    #print \"Averaging Intensity from Pole Figures\"\n",
    "    AverageIntensity=[name]\n",
    "\n",
    "    ## For each pole figure:\n",
    "    for pf in PoleFigures:\n",
    "        IntensityValues=[]\n",
    "        #print \"Pole Figure Data:\"\n",
    "        #print len(list(pf.columns.values))\n",
    "        #print len(list(pf.index.values))\n",
    "        #print pf    \n",
    "\n",
    "        ## Interpolate the pole figure\n",
    "        #set kx,ky=1 for linear interpolation, otherwise got odd behavior near zero on edges\n",
    "        InterpPF=scipy.interpolate.RectBivariateSpline(list(pf.index.values),list(pf.columns.values), pf, kx=1, ky=1)\n",
    "\n",
    "        ## For each coordinate:\n",
    "        ## Read the value from the pole figure, append to new array\n",
    "        #print Coordinates\n",
    "        for index, row in Coordinates.iterrows():\n",
    "            #print row['Tilt'], row['Rotation'], InterpPF.ev(row['Tilt'],row['Rotation'])\n",
    "            IntensityValues.append(InterpPF.ev(row['Tilt'],row['Rotation']))\n",
    "\n",
    "        #print IntensityValues\n",
    "        #Factor of 100 is divided to convert from POPLA style format of 100 = 1 MRD/MUD\n",
    "        AverageIntensity.append(sum(IntensityValues)/(100*len(IntensityValues)))\n",
    "\n",
    "    #print AverageIntensity\n",
    "\n",
    "    ## return average value\n",
    "    return AverageIntensity\n",
    "\n"
   ]
  },
  {
   "cell_type": "markdown",
   "metadata": {},
   "source": [
    "## Define function to create a hexagonal grid\n",
    "\n",
    "Adapted from A. C. Rizzie, “Elaboration on the Hexagonal Grid and Spiral Method for Data Collection Via Pole Figures,” Spring 2008 [Online]. Available: http://www.bsu.edu/libraries/beneficencepress/mathexchange/05-01/rizzie.pdf. [Accessed: 13-Dec-2016]\n"
   ]
  },
  {
   "cell_type": "code",
   "execution_count": null,
   "metadata": {
    "collapsed": true
   },
   "outputs": [],
   "source": [
    "def HexGrid(name, chi_max, angular_spacing):\n",
    "    \n",
    "#chi_max=90.0  #maximum tilt angle in degrees\n",
    "#angular_spacing=7.0\n",
    "\n",
    "\n",
    "    d_max=2.0*math.sin(math.radians(chi_max)/2.0)\n",
    "\n",
    "    N=d_max/math.radians(angular_spacing)\n",
    "\n",
    "    #print \"Max Tilt: \", chi_max\n",
    "    #print \"Angular Spacing: \", angular_spacing\n",
    "\n",
    "    xaxis=[]\n",
    "    yaxis=[]\n",
    "\n",
    "    j=0\n",
    "    i=0\n",
    "    y_j=0.0\n",
    "    x_ij=0.0\n",
    "    chi_ij=0.0\n",
    "    phi_ij=0.0\n",
    "\n",
    "    while np.multiply((math.sqrt(3)*(d_max)/(2*N)), j ) < d_max:\n",
    "\n",
    "        y_j=np.multiply((math.sqrt(3)*(d_max)/(2*N)), j )\n",
    "        #print \"Current tilt: \", math.degrees(y_j)\n",
    "        #print \"X_ij list: \", x_ij ,\"\\n\"\n",
    "\n",
    "        #print \"j: \",j,\"\\ty_j: \", y_j \n",
    "        #print \"\\n\"    \n",
    "\n",
    "        #print \"x_ij limit: \", (math.sqrt(d_max*d_max-(y_j*y_j)))\n",
    "        i=0\n",
    "        x_ij=0.0\n",
    "        while ((d_max/N)*i) <= (math.sqrt(d_max*d_max-(y_j*y_j))):\n",
    "\n",
    "            #x.append(1)\n",
    "            #print \"b*j: \",j,\"\\ti: \", i, \"\\tx_ij: \", x_ij \n",
    "\n",
    "            if (j%2==0):\n",
    "                #print \"Even\"\n",
    "                x_ij=((d_max/N)*i)\n",
    "                #x[j].append((R/N)*i)\n",
    "            elif (j%2==1):\n",
    "                #print \"Odd\"\n",
    "                x_ij=((d_max/(2.0*N))+(d_max/N)*i)\n",
    "                #x[j].append((R/(2*N))+(R/N)*i)\n",
    "            else:\n",
    "                pass\n",
    "\n",
    "\n",
    "            #NextRotation=((R/N)*i)   \n",
    "            #print \"e j: \",j,\"\\ti: \", i, \"\\tx_ij: \", x_ij \n",
    "\n",
    "            d_ij=math.sqrt(x_ij*x_ij + y_j*y_j)\n",
    "            chi_ij=2.0*math.asin(d_ij/2.0)\n",
    "            if math.degrees(chi_ij) <= chi_max:\n",
    "                if y_j==0:\n",
    "                    #do once to avoid duplicates\n",
    "                    #print \"do some nothing\"\n",
    "\n",
    "                    phi_ij=((180.0/math.pi)*math.atan2(y_j,x_ij))\n",
    "                    xaxis.append(math.degrees(chi_ij))\n",
    "                    yaxis.append(phi_ij)\n",
    "\n",
    "                    if x_ij!=0:\n",
    "                        phi_ij=((180.0/math.pi)*math.atan2(y_j,-1.0*x_ij))\n",
    "                        xaxis.append(math.degrees(chi_ij))\n",
    "                        yaxis.append(phi_ij)\n",
    "                    else:\n",
    "                        #removes reduntant rotation\n",
    "                        pass\n",
    "\n",
    "                else:\n",
    "                    if x_ij>0:\n",
    "                        #positive i values - quadrant I\n",
    "                        phi_ij=((180.0/math.pi)*math.atan2(y_j,x_ij))\n",
    "                        xaxis.append(math.degrees(chi_ij))\n",
    "                        yaxis.append(phi_ij)\n",
    "\n",
    "                        #negative i values -quadrant II\n",
    "                        phi_ij=((180.0/math.pi)*math.atan2(y_j,(-1.0*x_ij)))\n",
    "                        xaxis.append(math.degrees(chi_ij))\n",
    "                        yaxis.append(phi_ij)\n",
    "\n",
    "                        #quadrant III\n",
    "                        phi_ij=((180.0/math.pi)*math.atan2(y_j,x_ij)+180.0)\n",
    "                        xaxis.append(math.degrees(chi_ij))\n",
    "                        yaxis.append(phi_ij)\n",
    "\n",
    "                        #quadrant IV\n",
    "                        phi_ij=((180.0/math.pi)*math.atan2(y_j,(-1.0*x_ij))+180.0)\n",
    "                        xaxis.append(math.degrees(chi_ij))\n",
    "                        yaxis.append(phi_ij)\n",
    "\n",
    "                    else:\n",
    "                        phi_ij=(90.0)\n",
    "                        xaxis.append(math.degrees(chi_ij))\n",
    "                        yaxis.append(phi_ij)\n",
    "\n",
    "                        phi_ij=(270.0)\n",
    "                        xaxis.append(math.degrees(chi_ij))\n",
    "                        yaxis.append(phi_ij)\n",
    "                #print \"j: \",j,\"\\ty_j: \", y_j , \"\\ti: \", i,  \"\\tx_ij: \", x_ij ,\"\\td_ij: \", d_ij ,\"\\tchi_ij: \",math.degrees(chi_ij), \"\\tphi_ij: \",phi_ij\n",
    "                    #anglelist.append([math.degrees(chi_ij) ,phi_ij])\n",
    "\n",
    "            else:\n",
    "                #append anyway to debug\n",
    "            #    xaxis.append(math.degrees(chi_ij))\n",
    "            #    yaxis.append(phi_ij)\n",
    "                #print \"Excceds bounds at:\"\n",
    "                #print \"\\tchi_ij: \",chi_ij, \"\\td_max: \",d_max\n",
    "                #print \"\\tchi_ij: \",math.degrees(chi_ij), \"\\td_max: \",math.degrees(d_max)\n",
    "                #print \"j: \",j,\"\\ty_j: \", y_j , \"\\ti: \", i,  \"\\tx_ij: \", x_ij ,\"\\td_ij: \", d_ij ,\"\\tchi_ij: \",math.degrees(chi_ij), \"\\tphi_ij: \",phi_ij\n",
    "                pass\n",
    "            #NextRotation=x_ij\n",
    "            #print \"Next Rotation: \", NextRotation\n",
    "\n",
    "\n",
    "            ### Iterate\n",
    "            i=i+1\n",
    "        #print \"X_ij list: \", x_ij ,\"\\n\"\n",
    "        #NextTilt= np.multiply((math.sqrt(3)*(d_max)/(2*N)), j+1 )\n",
    "        #print \"Next Tilt:\", math.degrees(NextTilt)   \n",
    "\n",
    "\n",
    "        ### Iterate\n",
    "        j=j+1\n",
    "\n",
    "        #print \"\\n\"\n",
    "        #print y_j\n",
    "\n",
    "    d = {'Tilt' : xaxis, 'Rotation' : yaxis}\n",
    "    coordinates=pd.DataFrame(d)\n",
    "\n",
    "    #print coordsDF.sort_values('Tilt')    \n",
    "    return name, coordinates"
   ]
  },
  {
   "cell_type": "markdown",
   "metadata": {},
   "source": [
    "## Define function to tilt and rotate\n",
    "\n",
    "Adapted from C. F. Jatczak, J. A. Larson, and S. W. Shin, Retained austenite and its measurements by X-ray diffraction: an information manual. Warrendale, PA: Society of Automotive Engineers, 1980. \n"
   ]
  },
  {
   "cell_type": "code",
   "execution_count": null,
   "metadata": {
    "collapsed": true
   },
   "outputs": [],
   "source": [
    "# convert rotations per minute to radians per second\n",
    "def rpm2radpsec(rpm):\n",
    "    radpsec=(rpm*math.pi*2.0)/60.0\n",
    "    return radpsec\n"
   ]
  },
  {
   "cell_type": "code",
   "execution_count": null,
   "metadata": {
    "collapsed": true
   },
   "outputs": [],
   "source": [
    "def TiltRotate(name, time, datapoints, rpm,maxtilt,tiltcpm):\n",
    "    #time=120  # in seconds\n",
    "    #datapoints = 5000.0\n",
    "    rotationspeed=(rpm2radpsec(rpm)) # radians per second\n",
    "    #maxtilt=60.0  # in degrees\n",
    "    tiltspeed=(tiltcpm/60.0)  #cycles per second\n",
    "\n",
    "    #print time,  datapoints, rpm,maxtilt,tiltcpm\n",
    "    \n",
    "    timelist=np.ndarray.tolist(np.arange(0, time, time/datapoints))\n",
    "    #print timelist\n",
    "\n",
    "    rotationposition=[]\n",
    "    tiltposition=[]\n",
    "\n",
    "\n",
    "    #print rotationspeed\n",
    "\n",
    "    #create the list of tilts and rotations\n",
    "    for i,item in enumerate(timelist):\n",
    "        #rotationposition.append(math.degrees(item*rotationspeed % 2.0*math.pi))\n",
    "        rotationposition.append((math.degrees(rotationspeed*item) % 360.0))\n",
    "\n",
    "        tiltposition.append( maxtilt * signal.sawtooth(2 * np.pi * tiltspeed * item +np.pi/2, 0.5))\n",
    "\n",
    "        #print \"time:\", item, \"\\tRotation: \", rotationposition[-1],  \"\\tTilt: \", tiltposition[i]\n",
    "\n",
    "\n",
    "    #print rotationposition\n",
    "    # function for tilt\n",
    "    #56 cycles/minute\n",
    "\n",
    "\n",
    "    #plt.plot(timelist, rotationposition, 'r',timelist, tiltposition, 'b')\n",
    "    #plt.show()\n",
    "\n",
    "    d = {'Tilt' : tiltposition, 'Rotation' : rotationposition}\n",
    "    coordinates=pd.DataFrame(d)\n",
    "\n",
    "        #print coordsDF.sort_values('Tilt')    \n",
    "    return name, coordinates\n"
   ]
  },
  {
   "cell_type": "markdown",
   "metadata": {},
   "source": [
    "# Define function for Spiral"
   ]
  },
  {
   "cell_type": "code",
   "execution_count": null,
   "metadata": {
    "collapsed": true
   },
   "outputs": [],
   "source": [
    "def Spiral(name, maxtilt, numrotation, spacing):\n",
    "    \"\"\"Name refers to the specific scheme. maxtilt is the maximum tilt angle measured in degrees.\n",
    "    numrotation is the number of times the spiral rotates. spacing is the relative spacing between datapoints; a default of 5 is recommended.\"\"\"\n",
    "    rotationposition=[0.0,0.0]\n",
    "    tiltposition=[0.0,5.0]\n",
    "    \n",
    "    spacingcoefficient = np.log(maxtilt)/(math.degrees(numrotation * 2 * np.pi))\n",
    "    \n",
    "    while rotationposition[len(rotationposition)-1]<(math.degrees(numrotation * 2 * np.pi)) and tiltposition[len(tiltposition)-1]<maxtilt:\n",
    "        rotationposition.append(rotationposition[len(rotationposition)-1] + spacing*maxtilt/tiltposition[len(tiltposition)-1])\n",
    "        tiltposition.append(np.exp(spacingcoefficient * rotationposition[len(rotationposition)-1]))\n",
    "\n",
    "    del(rotationposition[len(rotationposition)-1])\n",
    "    del(tiltposition[len(tiltposition)-1])\n",
    "        \n",
    "    rotationposition.append(math.degrees(numrotation * 2 * np.pi))\n",
    "    tiltposition.append(maxtilt)\n",
    "    \n",
    "    d = {'Tilt' : tiltposition, 'Rotation' : rotationposition}\n",
    "    coordinates=pd.DataFrame(d,columns=['Tilt','Rotation'])\n",
    "    coordinates = coordinates.drop(coordinates[(coordinates.Tilt>0.0) & (coordinates.Tilt<5.0)].index)\n",
    "    return name, coordinates    "
   ]
  },
  {
   "cell_type": "markdown",
   "metadata": {},
   "source": [
    "# Define function for Gaussian Quadrature"
   ]
  },
  {
   "cell_type": "code",
   "execution_count": null,
   "metadata": {
    "collapsed": true
   },
   "outputs": [],
   "source": [
    "def GaussQuad(name):\n",
    "    rotationposition=[0.0,0.0,45.0,90.0,135.0,0.0,45.0,90.0,135.0,0.0,45.0,90.0,135.0,0.0,45.0,90.0,135.0]\n",
    "    tiltposition=[0.0,0.533296*180/math.pi,0.533296*180/math.pi,0.533296*180/math.pi,0.533296*180/math.pi,1.2239*180/math.pi,1.2239*180/math.pi,1.2239*180/math.pi,1.2239*180/math.pi,1.91769*180/math.pi,1.91769*180/math.pi,1.91769*180/math.pi,1.91769*180/math.pi,2.6083*180/math.pi,2.6083*180/math.pi,2.6083*180/math.pi,2.6083*180/math.pi]\n",
    "    d = {'Tilt' : tiltposition, 'Rotation' : rotationposition}\n",
    "    coordinates = pd.DataFrame(d)\n",
    "    return name, coordinates"
   ]
  },
  {
   "cell_type": "markdown",
   "metadata": {},
   "source": [
    "# Create list of positions to evaluate"
   ]
  },
  {
   "cell_type": "markdown",
   "metadata": {},
   "source": [
    "## Single Sample Orientation"
   ]
  },
  {
   "cell_type": "code",
   "execution_count": null,
   "metadata": {
    "collapsed": true
   },
   "outputs": [],
   "source": [
    "def SingleOrientation(name, tilt, rotation):\n",
    "    coordslist=[[tilt,rotation]]\n",
    "    xaxis=[]\n",
    "    yaxis=[]\n",
    "    for item in coordslist: \n",
    "        xaxis.append(item[0])\n",
    "        yaxis.append(item[1])\n",
    "    #coordslist[0][:]\n",
    "    d = {'Tilt' : xaxis, 'Rotation' : yaxis}\n",
    "    coordsDF=pd.DataFrame(d)\n",
    "    return name, coordsDF"
   ]
  },
  {
   "cell_type": "markdown",
   "metadata": {},
   "source": [
    "## Rings Perpendicular to a sample direction"
   ]
  },
  {
   "cell_type": "code",
   "execution_count": null,
   "metadata": {
    "collapsed": true
   },
   "outputs": [],
   "source": [
    "# Perpendicular to ND\n",
    "def RingPerpND(res):\n",
    "    name=\"Ring Perpendicular to ND\"\n",
    "    yaxis=np.ndarray.tolist(np.arange(0.0, 360.0001, res))#rotation\n",
    "    xaxis=[90.0] * len(yaxis) #tilt \n",
    "    d = {'Tilt' : xaxis, 'Rotation' : yaxis}\n",
    "    coordsDF=pd.DataFrame(d)\n",
    "    return name, coordsDF"
   ]
  },
  {
   "cell_type": "code",
   "execution_count": null,
   "metadata": {
    "collapsed": true
   },
   "outputs": [],
   "source": [
    "# Perpendicular to RD\n",
    "def RingPerpRD(res):\n",
    "    name=\"Ring Perpendicular to RD\"\n",
    "    xaxis=np.ndarray.tolist(np.arange(0.0, 90.001, res))#tilt \n",
    "    #yaxis=[90.0] * len(xaxis) #rotation\n",
    "    yaxis=[270.0] * len(xaxis) #rotation\n",
    "    d = {'Tilt' : xaxis, 'Rotation' : yaxis}\n",
    "    coordsDF=pd.DataFrame(d)\n",
    "    return name, coordsDF"
   ]
  },
  {
   "cell_type": "code",
   "execution_count": null,
   "metadata": {
    "collapsed": true
   },
   "outputs": [],
   "source": [
    "# Perpendicular to TD\n",
    "def RingPerpTD(res):\n",
    "    name=\"Ring Perpendicular to TD\"\n",
    "    xaxis=np.ndarray.tolist(np.arange(0.0, 90.001, res))#tilt \n",
    "    #yaxis=[0.0] * len(xaxis) #rotation\n",
    "    yaxis=[180.0] * len(xaxis) #rotation\n",
    "    d = {'Tilt' : xaxis, 'Rotation' : yaxis}\n",
    "    coordsDF=pd.DataFrame(d)\n",
    "    return name, coordsDF"
   ]
  },
  {
   "cell_type": "markdown",
   "metadata": {},
   "source": [
    "## Series of rotated rings "
   ]
  },
  {
   "cell_type": "code",
   "execution_count": 12,
   "metadata": {
    "collapsed": false
   },
   "outputs": [],
   "source": [
    "# Perpendicular to RD\n",
    "def RingRot(res,theta,omega_list,rotaxis): #add omega\n",
    "    name=\"Ring Perpendicular to eZ\"\n",
    "    #name=\"Ring Perpendicular to ND\"\n",
    "    print rotaxis\n",
    "    \n",
    "    #Generate the ring of rotations\n",
    "    yaxis=np.ndarray.tolist(np.arange(0.0, 360.0001, res))#rotation\n",
    "    xaxis=[90.0-theta] * len(yaxis) #tilt \n",
    "    d = {'Tilt' : xaxis, 'Rotation' : yaxis}\n",
    "    coordsDF=pd.DataFrame(d)\n",
    "    \n",
    "    ## Additional rotations\n",
    "    #omega_list=[5]\n",
    "    \n",
    "    for omega_step in omega_list:\n",
    "        #print \"Additonal omegas: \", omega_step \n",
    "        r_list=[]\n",
    "        t_list=[]\n",
    "        for i, value in enumerate(yaxis):\n",
    "            if rotaxis=='X':\n",
    "                (r,t)=cart2sphDeg(np.einsum('ij,j', RotateXMatrix(omega_step), sph2cartDeg(value,xaxis[i])))                \n",
    "            elif rotaxis=='Y':           \n",
    "                (r,t)=cart2sphDeg(np.einsum('ij,j', RotateYMatrix(omega_step), sph2cartDeg(value,xaxis[i])))\n",
    "            else:\n",
    "                print \"Not a supported rotation axis\"\n",
    "            \n",
    "            #(r,t)=StepRotateRing(value,xaxis[i],omega_step)\n",
    "            #print value, xaxis[i], omega_step,r,t\n",
    "            r_list.append(r)\n",
    "            t_list.append(t)\n",
    "            \n",
    "        d2 = {'Tilt' : t_list, 'Rotation' : r_list}\n",
    "        d2DF=pd.DataFrame(d2)\n",
    "        coordsDF=coordsDF.append(d2DF)\n",
    "        \n",
    "        \n",
    "        \n",
    "        \n",
    "    # range and step of rotations\n",
    "    \n",
    "    # append\n",
    "    #df2 = pd.DataFrame([[5, 6], [7, 8]], columns=list('AB'))\n",
    "    #df.append(df2)\n",
    "    \n",
    "    return name, coordsDF"
   ]
  },
  {
   "cell_type": "code",
   "execution_count": 8,
   "metadata": {
    "collapsed": false
   },
   "outputs": [],
   "source": [
    "# adapted from Steronet\n",
    "def sph2cartDeg(rotation_deg, tilt_deg):\n",
    "    \"\"\"\n",
    "    Converts a longitude and latitude (or sequence of lons and lats) given in\n",
    "    _radians_ to cartesian coordinates, `x`, `y`, `z`, where x=0, y=0, z=0 is\n",
    "    \"\"\"\n",
    "    elevation_deg=90-tilt_deg\n",
    "    elevation=elevation_deg*math.pi/180\n",
    "    rotation=rotation_deg*math.pi/180\n",
    "    \n",
    "    x = np.cos(elevation) * np.cos(rotation)\n",
    "    y = np.cos(elevation) * np.sin(rotation)\n",
    "    z = np.sin(elevation)\n",
    "\n",
    "    return [x, y, z]"
   ]
  },
  {
   "cell_type": "code",
   "execution_count": null,
   "metadata": {
    "collapsed": true
   },
   "outputs": [],
   "source": [
    "# adjust the range of cart2sph, currenlty getting negaitve values of rotate and tilt greater than 90"
   ]
  },
  {
   "cell_type": "code",
   "execution_count": 7,
   "metadata": {
    "collapsed": false
   },
   "outputs": [],
   "source": [
    "def cart2sphDeg(a):\n",
    "    \"\"\"\n",
    "\n",
    "    \"\"\"\n",
    "\n",
    "    x=a[0]\n",
    "    y=a[1]\n",
    "    z=a[2]\n",
    "    #https://www.mathworks.com/help/matlab/ref/cart2sph.html    \n",
    "    azimuth = np.arctan2(y,x) \n",
    "    elevation = np.arctan2(z,np.sqrt(x**2 + y**2))\n",
    "    #tilt=\n",
    "    \n",
    "    \n",
    "    #check on value of r?\n",
    "    r = np.sqrt(x**2 + y**2 + z**2)\n",
    "    #lat = np.arcsin(z/r) # original\n",
    "    #lat = np.arccos(z/r) # changed for tilt/rotate convention - didn't work out\n",
    "    #lat = -np.arccos(z/r) # changed to invert with RotateTilt\n",
    "\n",
    "    #lon = np.arctan2(y, x)\n",
    "    return np.degrees(azimuth), 90-np.degrees(elevation)"
   ]
  },
  {
   "cell_type": "code",
   "execution_count": null,
   "metadata": {
    "collapsed": true
   },
   "outputs": [],
   "source": [
    "a=sph2cartDeg(5,1)  #something goes awry when tilt =0\n",
    "\n",
    "\n",
    "print a\n",
    "B=RotateYMatrix(1)\n",
    "\n",
    "c= np.einsum('ij,j', B, a)\n",
    "\n",
    "\n",
    "cart2sphDeg(c)"
   ]
  },
  {
   "cell_type": "code",
   "execution_count": null,
   "metadata": {
    "collapsed": true
   },
   "outputs": [],
   "source": [
    "#### Now add rotation around X axis between these"
   ]
  },
  {
   "cell_type": "code",
   "execution_count": 2,
   "metadata": {
    "collapsed": true
   },
   "outputs": [],
   "source": [
    "def RotateYMatrix(omega_deg):\n",
    "    omega=omega_deg*math.pi/180\n",
    "    R=[[math.cos(omega),0, -math.sin(omega)  ],\n",
    "        [0, 1,0],\n",
    "        [math.sin(omega), 0, math.cos(omega)]]\n",
    "    return np.transpose(np.array(R)) # transpose to change from active to passive"
   ]
  },
  {
   "cell_type": "code",
   "execution_count": 3,
   "metadata": {
    "collapsed": true
   },
   "outputs": [],
   "source": [
    "def RotateXMatrix(omega_deg):\n",
    "    omega=np.radians(omega_deg)\n",
    "    R=[[1,0, 0  ],\n",
    "        [0, math.cos(omega),math.sin(omega)],\n",
    "        [0,-math.sin(omega), math.cos(omega)]]\n",
    "    return np.transpose(np.array(R)) # transpose to change from active to passive"
   ]
  },
  {
   "cell_type": "code",
   "execution_count": null,
   "metadata": {
    "collapsed": true
   },
   "outputs": [],
   "source": [
    "### Summ rotations"
   ]
  },
  {
   "cell_type": "markdown",
   "metadata": {},
   "source": [
    "## Generate average intensity based on pole figures and coordinates\n",
    "- This section calculates the average intensity and saves to file\n",
    "- Looks for the list of XPC files and calculates a table (.xlsx) for each\n",
    "\n",
    "_Skip if you only wish to plot the sampling schemes_"
   ]
  },
  {
   "cell_type": "code",
   "execution_count": null,
   "metadata": {
    "collapsed": true,
    "scrolled": true
   },
   "outputs": [],
   "source": [
    "#SchemeName,Coordinates=\n",
    "\n",
    "# Get the current working directory path\n",
    "cwd=os.getcwd()\n",
    "#print cwd\n",
    "xpcdatapath=os.path.abspath(os.path.join(os.path.dirname(cwd)))\n",
    "#print xpcdatapath\n",
    "\n",
    "Folder=os.path.join(os.path.dirname(cwd),'MAUD','XPCFiles')\n",
    "print Folder\n",
    "\n",
    "SaveFolder=\"AveragedIntensites\"\n",
    "\n",
    "if not os.path.isdir(SaveFolder):\n",
    "    os.makedirs(SaveFolder)\n",
    "    \n",
    "os.chdir(SaveFolder)\n",
    "\n",
    "\n",
    "for file in os.listdir(Folder):\n",
    "    print file\n",
    "    if file.endswith(\".xpc\"):\n",
    "        XPCfile=(os.path.join(Folder, file))\n",
    "        \n",
    "        #\n",
    "        if \"-\" in file: \n",
    "            orientation, hw=file.split('-')\n",
    "        else:\n",
    "            orientation, ext=file.split('.')\n",
    "            \n",
    "        PhaseType= orientation[-1:]\n",
    "\n",
    "\n",
    "    #for XPCfile in listoffiles:\n",
    "\n",
    "        (pfs,hkllist)=xpcformat('xpc',XPCfile)\n",
    "\n",
    "        #create subsets for phase fractions\n",
    "\n",
    "        hkllist.append('2Pairs')\n",
    "        hkllist.append('4Pairs')\n",
    "        hkllist.append('MaxUnique')\n",
    "\n",
    "        OutputList=[hkllist]\n",
    "\n",
    "        for q in list([1,2,3,4,5,6,7,8,9,10,11,12,13,14,15,16,17]):\n",
    "\n",
    "            if q==1: SchemeName,Coordinates=SingleOrientation(\"ND Single\", 0.0,0.0)\n",
    "            elif q==2: SchemeName,Coordinates=SingleOrientation(\"RD Single\", 90.0,0.0)\n",
    "            elif q==3: SchemeName,Coordinates=SingleOrientation(\"TD Single\", 90.0,90.0)\n",
    "            elif q==4: SchemeName,Coordinates=SingleOrientation(\"Morris\", 60.0,90.0)\n",
    "                ## Add other orientation\n",
    "\n",
    "            elif q==5: SchemeName,Coordinates=RingPerpND(5.0)\n",
    "            elif q==6: SchemeName,Coordinates=RingPerpRD(5.0)\n",
    "            elif q==7: SchemeName,Coordinates=RingPerpTD(5.0)\n",
    "            #Gaussian Quadrature\n",
    "            elif q==8: SchemeName,Coordinates=GaussQuad(\"Gaussian-Quadrature\")\n",
    "            #Spiral Scheme\n",
    "            elif q==9: SchemeName,Coordinates=Spiral(\"Spiral-90deg-10rot-5space\",90,10,5)\n",
    "            elif q==10: SchemeName,Coordinates=Spiral(\"Spiral-90deg-15rot-5space\",90,15,5)\n",
    "            elif q==11: SchemeName,Coordinates=Spiral(\"Spiral-90deg-10rot-3space\",90,10,3)\n",
    "                # re-arranged to match plotting\n",
    "            elif q==12: SchemeName,Coordinates=TiltRotate(\"NoRotation-tilt60deg\", 120.0, 1600.0, 0.0,60.0,56.0)\n",
    "            elif q==13: SchemeName,Coordinates=TiltRotate(\"Rotation-NoTilt\", 120.0, 1600.0, 30.0,0.0,56.0)\n",
    "            elif q==14: SchemeName,Coordinates=TiltRotate(\"Rotation-60detTilt\", 120.0, 5000.0, 30.0,60.0,56.0)\n",
    "                \n",
    "            elif q==15: SchemeName,Coordinates=HexGrid(\"HexGrid-90degTilt5degRes\",90.0,5.0)\n",
    "            elif q==16: SchemeName,Coordinates=HexGrid(\"HexGrid-90degTilt22p5degRes\",90.0,22.5)\n",
    "            elif q==17: SchemeName,Coordinates=HexGrid(\"HexGrid-60degTilt5degRes\",60.0,5.0)\n",
    "                #New testing Schemes start here\n",
    "                \n",
    "            else: \n",
    "                print \"No Schemes of that index\"\n",
    "                break\n",
    "\n",
    "            PfIS=pfIntensitySum(SchemeName,pfs,Coordinates)\n",
    "            PfIS.append(np.mean([PfIS[2],PfIS[3]]))\n",
    "            PfIS.append(np.mean([PfIS[1],PfIS[2],PfIS[3],PfIS[4]]))\n",
    "\n",
    "            if PhaseType==\"A\":\n",
    "                PfIS.append(np.mean([PfIS[1],PfIS[2],PfIS[3],PfIS[4],PfIS[7],PfIS[8],PfIS[9],PfIS[10]]))\n",
    "            elif PhaseType==\"F\":\n",
    "                PfIS.append(np.mean([PfIS[1],PfIS[2],PfIS[3],PfIS[5],PfIS[6],PfIS[7]])) \n",
    "                #used to include 4, exclude 5, but that is incorrect\n",
    "            else:\n",
    "                print \"Unrecognized Phase\"\n",
    "\n",
    "            OutputList.append(PfIS)  \n",
    "\n",
    "            #print q,SchemeName\n",
    "            #print \"List of average pole Figure Intensities:\\n\", PfIS\n",
    "            #print \"Average of all pole figures listed: \", sum(PfIS)/len(PfIS)\n",
    "            #print \"\"\n",
    "\n",
    "            #np.mean()\n",
    "\n",
    "        directory, outfile=XPCfile.rsplit('\\\\', 1)\n",
    "        outfile2 = outfile.split('-')\n",
    "        print outfile\n",
    "        #OutputList.append([XPCfile]) \n",
    "        IntensitiesDF=pd.DataFrame(OutputList)\n",
    "        IntensitiesDF\n",
    "\n",
    "        # save to excel\n",
    "\n",
    "        s=\"\"     \n",
    "\n",
    "        writer = pd.ExcelWriter(s.join([outfile.split('.')[0], \".xlsx\"]))\n",
    "        IntensitiesDF.to_excel(writer,outfile2[0])\n",
    "        writer.save()\n",
    "    else:\n",
    "        print \"Not an .xpc file\"\n",
    "os.chdir(\"..\")"
   ]
  },
  {
   "cell_type": "markdown",
   "metadata": {},
   "source": [
    "# Plots"
   ]
  },
  {
   "cell_type": "markdown",
   "metadata": {},
   "source": [
    "# Plot pole figures of sampling positions"
   ]
  },
  {
   "cell_type": "markdown",
   "metadata": {},
   "source": [
    "### Test functions"
   ]
  },
  {
   "cell_type": "code",
   "execution_count": null,
   "metadata": {
    "collapsed": true,
    "scrolled": true
   },
   "outputs": [],
   "source": [
    "SchemeName,Coordinates=SingleOrientation(\"Morris\", 60.0,90.0)\n",
    "Coordinates"
   ]
  },
  {
   "cell_type": "markdown",
   "metadata": {},
   "source": [
    "### Simple plot to work out mplsteronet conventions"
   ]
  },
  {
   "cell_type": "code",
   "execution_count": null,
   "metadata": {
    "collapsed": true
   },
   "outputs": [],
   "source": [
    "fig = plt.figure(figsize=(8,8), dpi=600)\n",
    "\n",
    "ax2 = fig.add_subplot(111, projection='stereonet')\n",
    "\n",
    "#SingleOrientation - Name, Tilt, Rotation\n",
    "#SchemeName,Coordinates=SingleOrientation(\"RD Single\", 90.0,180.0)\n",
    "SchemeName,Coordinates=SingleOrientation(\"TD Single\", 90.0,270.0)\n",
    "\n",
    "dip, strike =Coordinates['Tilt'], Coordinates['Rotation']-90.0\n",
    "l1=ax2.pole(strike, dip, 'bD', markersize=10, clip_on=False)\n",
    "#dip tilts about the 0 axis (RD), left handed\n",
    "#strike tilts about the normal axis (ND), left handed\n",
    "#Looking at the bottom of the sphere, not the top\n",
    "#this is just convention of mplstereonet, does not affect averaging methods\n",
    "\n",
    "plt.show()"
   ]
  },
  {
   "cell_type": "markdown",
   "metadata": {},
   "source": [
    "### Simple plot to test new sampling schemes"
   ]
  },
  {
   "cell_type": "code",
   "execution_count": null,
   "metadata": {
    "collapsed": false
   },
   "outputs": [],
   "source": [
    "fig = plt.figure(figsize=(8,8), dpi=600)\n",
    "\n",
    "ax10 = fig.add_subplot(111, projection='stereonet')\n",
    "\n",
    "ax10.plane(0.0, 90.0, 'k-', linewidth=1)\n",
    "ax10.plane(90.0, 90.0, 'k-', linewidth=1)\n",
    "\n",
    "SchemeName,Coordinates=Spiral(\"Spiral\",90,10,3)\n",
    "dip, strike =Coordinates['Tilt'], (Coordinates['Rotation']-90.0)\n",
    "l1=ax10.pole(strike, dip, marker ='o',mfc='purple', markersize=10, clip_on=False,markeredgecolor='black', markeredgewidth=0.5)\n",
    "\n",
    "plt.show()"
   ]
  },
  {
   "cell_type": "markdown",
   "metadata": {},
   "source": [
    "## Rotated ring plotting"
   ]
  },
  {
   "cell_type": "code",
   "execution_count": 15,
   "metadata": {
    "collapsed": false
   },
   "outputs": [
    {
     "name": "stdout",
     "output_type": "stream",
     "text": [
      "X\n",
      "X\n"
     ]
    },
    {
     "data": {
      "image/png": "[encoded data removed]",
      "text/plain": [
       "<matplotlib.figure.Figure at 0x117936350>"
      ]
     },
     "metadata": {},
     "output_type": "display_data"
    }
   ],
   "source": [
    "fig = plt.figure(figsize=(8,8), dpi=600)\n",
    "\n",
    "ax10 = fig.add_subplot(111, projection='stereonet')\n",
    "\n",
    "ax10.plane(0.0, 90.0, 'k-', linewidth=1)\n",
    "ax10.plane(90.0, 90.0, 'k-', linewidth=1)\n",
    "\n",
    "#RingRotRD\n",
    "res=5\n",
    "theta=10\n",
    "\n",
    "omega_list=np.arange(-90, 91, 5 )\n",
    "\n",
    "#l1=ax10.pole(0, 0, marker =\"s\",mfc='k', markersize=10, clip_on=False,markeredgecolor='black', markeredgewidth=0.5)\n",
    "\n",
    "SchemeName,Coordinates=RingRot(res,theta,omega_list,'X')\n",
    "#print Coordinates\n",
    "dip, strike =Coordinates['Tilt'], (Coordinates['Rotation']-90.0)\n",
    "l1=ax10.pole(strike, dip, marker ='o',mfc='magenta', markersize=10, clip_on=False,markeredgecolor='black', markeredgewidth=0.5)\n",
    "\n",
    "omega_list=[]\n",
    "SchemeName,Coordinates=RingRot(res,theta,omega_list,'X')\n",
    "#print Coordinates\n",
    "dip, strike =Coordinates['Tilt'], (Coordinates['Rotation']-90.0)\n",
    "l1=ax10.pole(strike, dip, marker ='o',mfc='k', markersize=5, clip_on=False,markeredgecolor='black', markeredgewidth=0.5)\n",
    "#l1=ax10.plane(-90, 10, marker =\"+\",mfc='purple', markersize=10, clip_on=False,markeredgecolor='black', markeredgewidth=0.5)\n",
    "#l1=ax10.pole(-90, 10, marker =\"x\",mfc='purple', markersize=10, clip_on=False,markeredgecolor='black', markeredgewidth=0.5)\n",
    "\n",
    "\n",
    "plt.show()"
   ]
  },
  {
   "cell_type": "code",
   "execution_count": null,
   "metadata": {
    "collapsed": true
   },
   "outputs": [],
   "source": [
    "# how much overcoverage is there\n",
    "# shows I need to adjust the range of tilt & rotate"
   ]
  },
  {
   "cell_type": "code",
   "execution_count": 43,
   "metadata": {
    "collapsed": false
   },
   "outputs": [
    {
     "name": "stdout",
     "output_type": "stream",
     "text": [
      "X\n"
     ]
    },
    {
     "data": {
      "image/png": "[encoded data removed]",
      "text/plain": [
       "<matplotlib.figure.Figure at 0x11b750190>"
      ]
     },
     "metadata": {},
     "output_type": "display_data"
    }
   ],
   "source": [
    "fig = plt.figure(figsize=(8,8), dpi=600)\n",
    "res=5\n",
    "theta=10\n",
    "omega_list=np.arange(-90, 91, 5 )\n",
    "SchemeName,Coordinates=RingRot(res,theta,omega_list,'X')\n",
    "\n",
    "h=plt.hist2d(Coordinates['Rotation'], Coordinates['Tilt'], bins=[72, 36], range=[[-180, 180], [0, 180]])\n",
    "\n",
    "plt.colorbar(h[3])\n",
    "\n",
    "plt.axhline(90,c='white')\n",
    "\n",
    "plt.show()\n"
   ]
  },
  {
   "cell_type": "code",
   "execution_count": null,
   "metadata": {
    "collapsed": true
   },
   "outputs": [],
   "source": [
    "## expanded range to show additional sampling at tilt =90 "
   ]
  },
  {
   "cell_type": "code",
   "execution_count": 37,
   "metadata": {
    "collapsed": false
   },
   "outputs": [
    {
     "name": "stdout",
     "output_type": "stream",
     "text": [
      "X\n"
     ]
    },
    {
     "data": {
      "image/png": "[encoded data removed]",
      "text/plain": [
       "<matplotlib.figure.Figure at 0x1177b6050>"
      ]
     },
     "metadata": {},
     "output_type": "display_data"
    }
   ],
   "source": [
    "res=5\n",
    "theta=10\n",
    "omega_list=np.arange(-90, 91, 5 )\n",
    "SchemeName,Coordinates=RingRot(res,theta,omega_list,'X')\n",
    "\n",
    "h=plt.hist2d(Coordinates['Rotation'], Coordinates['Tilt'], bins=[54, 18], range=[[-180, 360], [0, 180]])\n",
    "\n",
    "plt.colorbar(h[3])\n",
    "\n",
    "plt.show()\n"
   ]
  },
  {
   "cell_type": "code",
   "execution_count": null,
   "metadata": {
    "collapsed": true
   },
   "outputs": [],
   "source": []
  },
  {
   "cell_type": "markdown",
   "metadata": {},
   "source": [
    "## Plot all the Sampling methods detailed in the Paper"
   ]
  },
  {
   "cell_type": "code",
   "execution_count": null,
   "metadata": {
    "collapsed": true,
    "scrolled": true
   },
   "outputs": [],
   "source": [
    "# Note - MPLStereonet uses a different angle convention (geosciences) than is used for crystallography\n",
    "# A rotation of 90° is needed to align the coordiantes\n",
    "# TD, Morris rotated by 270° to be in the same quadrant as Matlab\n",
    "#dip = (Coordinates['Rotation']-90.0)\n",
    "\n",
    "\n",
    "# 3 x 3 subplot grid\n",
    "# single, ring, key\n",
    "# Tilt/Rotate\n",
    "# Hex Grids\n",
    "\n",
    "fig = plt.figure(figsize=(8,9), dpi=600)\n",
    "\n",
    "\n",
    "#key\n",
    "ax1 = fig.add_subplot(331, projection='stereonet')\n",
    "ax1.set_azimuth_ticks([0,90], labels=['RD','-- TD'],fontsize=14) \n",
    "ax1.plane(0.0, 90.0, 'k-', linewidth=1)\n",
    "ax1.plane(90.0, 90.0, 'k-', linewidth=1)\n",
    "ax1.annotate('(a)', xy=(0, 0), xytext=(-3.0,0.1), fontsize=16)\n",
    "ax1.annotate('ND', xy=(0, 0), xytext=(0.1,0.1), fontsize=14)\n",
    "\n",
    "\n",
    "#Single orientations\n",
    "\n",
    "ax2 = fig.add_subplot(332, projection='stereonet')\n",
    "\n",
    "ax2.plane(0.0, 90.0, 'k-', linewidth=1)\n",
    "ax2.plane(90.0, 90.0, 'k-', linewidth=1)\n",
    "            #if q==1: SchemeName,Coordinates=SingleOrientation(\"ND Single\", 0.0,0.0)\n",
    "            #elif q==2: SchemeName,Coordinates=SingleOrientation(\"RD Single\", 90.0,0.0)\n",
    "            #elif q==3: SchemeName,Coordinates=SingleOrientation(\"TD Single\", 90.0,90.0)\n",
    "            #elif q==4: SchemeName,Coordinates=SingleOrientation(\"Morris\", 60.0,90.0)\n",
    "                \n",
    "SchemeName,Coordinates=SingleOrientation(\"ND Single\", 0.0,0.0)\n",
    "dip, strike =Coordinates['Tilt'], (Coordinates['Rotation']-90.0)\n",
    "l1=ax2.pole(strike, dip, 'bs', markersize=10, clip_on=False,markeredgecolor='black', markeredgewidth=0.5)\n",
    "\n",
    "SchemeName,Coordinates=SingleOrientation(\"RD Single\", 90.0,180.0)\n",
    "dip, strike =Coordinates['Tilt'], (Coordinates['Rotation']-90.0)\n",
    "l2=ax2.pole(strike, dip, 'rs', markersize=10, clip_on=False,markeredgecolor='black', markeredgewidth=0.5)\n",
    "\n",
    "SchemeName,Coordinates=SingleOrientation(\"TD Single\", 90.0,270.0)\n",
    "dip, strike =Coordinates['Tilt'], (Coordinates['Rotation']-90.0)\n",
    "l3=ax2.pole(strike, dip, 'gs', markersize=10, clip_on=False,markeredgecolor='black', markeredgewidth=0.5)\n",
    "\n",
    "SchemeName,Coordinates=SingleOrientation(\"Morris\", 60.0,270.0)\n",
    "dip, strike =Coordinates['Tilt'], (Coordinates['Rotation']-90.0)\n",
    "l4=ax2.pole(strike, dip, 'ys', markersize=10, clip_on=False, markeredgecolor='black', markeredgewidth=0.5)\n",
    "\n",
    "ax2.set_azimuth_ticks([90,0], labels=['',''])\n",
    "ax2.annotate('(b)', xy=(0, 0), xytext=(-3.0,0.1), fontsize=16)\n",
    "\n",
    "#ax1.grid()\n",
    "#for index, row in Coordinates.iterrows():\n",
    "    #print row['Tilt'], row['Rotation']\n",
    "    #dip, strike =  row['Tilt'], row['Rotation']\n",
    "    #ax1.pole(strike, dip, 'g^', markersize=5)\n",
    "    \n",
    "    \n",
    "    #ax.plane(strike, dip, 'g-', linewidth=2)\n",
    "    #ax.rake(strike, dip, -70)\n",
    "    \n",
    "# Ring Orientations\n",
    "ax3 = fig.add_subplot(333, projection='stereonet')\n",
    "ax3.annotate('(c)', xy=(0, 0), xytext=(-3.0,0.1), fontsize=16)\n",
    "ax3.set_azimuth_ticks([90,0], labels=['','']) \n",
    "\n",
    "\n",
    "SchemeName,Coordinates=RingPerpND(5.0)\n",
    "ax3.plane(0.0, 0.0, 'b-', linewidth=3)\n",
    "ax3.plane(0.0, 180.0, 'b-', linewidth=3)\n",
    "for index, row in Coordinates.iterrows():\n",
    "    #print row['Tilt'], row['Rotation']\n",
    "    dip, strike =  row['Tilt'], (row['Rotation']-90.0)\n",
    "    ax3.pole(strike, dip, 'k+', markersize=10, clip_on=False)\n",
    "\n",
    "\n",
    "\n",
    "SchemeName,Coordinates=RingPerpRD(5.0)\n",
    "ax3.plane(-90.0, 90.0, 'r-', linewidth=3) #0.0 (RD)-90.0 (Strike Converntion ) = -90.0Dip\n",
    "for index, row in Coordinates.iterrows():\n",
    "    #print row['Tilt'], row['Rotation']\n",
    "    dip, strike =  row['Tilt'], (row['Rotation']-90.0)\n",
    "    ax3.pole(strike, dip, 'r+', markersize=10, clip_on=False)\n",
    "\n",
    "\n",
    "SchemeName,Coordinates=RingPerpTD(5.0)\n",
    "ax3.plane(0.0, 90.0, 'g-', linewidth=3)#90.0 (TD)-90.0 (Strike Converntion ) = 0.0Dip\n",
    "for index, row in Coordinates.iterrows():\n",
    "    #print row['Tilt'], row['Rotation']\n",
    "    dip, strike =  row['Tilt'], (row['Rotation']-90.0)\n",
    "    ax3.pole(strike, dip, 'g+', markersize=10, clip_on=False)\n",
    "\n",
    "\n",
    "\n",
    "\n",
    "\n",
    "\n",
    "ax4 = fig.add_subplot(334, projection='stereonet')\n",
    "ax4.annotate('(d)', xy=(0, 0), xytext=(-3.0,0.1), fontsize=16)\n",
    "ax4.set_azimuth_ticks([90,0], labels=['','']) \n",
    "ax4.plane(0.0, 90.0, 'k-', linewidth=1)\n",
    "ax4.plane(90.0, 90.0, 'k-', linewidth=1)\n",
    "SchemeName,Coordinates=TiltRotate(\"Rotation-NoTilt\", 120.0, 1600.0, 30.0,0.0,56.0)\n",
    "for index, row in Coordinates.iterrows():\n",
    "    #print row['Tilt'], row['Rotation']\n",
    "    dip, strike =  row['Tilt'], (row['Rotation']-90.0)\n",
    "    ax4.pole(strike, dip, 'cD', markersize=5, clip_on=False,markeredgecolor='black', markeredgewidth=0.5)\n",
    "\n",
    "\n",
    "\n",
    "ax5 = fig.add_subplot(335, projection='stereonet')\n",
    "ax5.annotate('(e)', xy=(0, 0), xytext=(-3.0,0.1), fontsize=16)\n",
    "ax5.plane(0.0, 90.0, 'k-', linewidth=1)\n",
    "ax5.plane(90.0, 90.0, 'k-', linewidth=1)\n",
    "ax5.set_azimuth_ticks([90,0], labels=['','']) \n",
    "SchemeName,Coordinates=TiltRotate(\"NoRotation-tilt60deg\", 120.0, 1600.0, 0.0,60.0,56.0)\n",
    "for index, row in Coordinates.iterrows():\n",
    "    #print row['Tilt'], row['Rotation']\n",
    "    dip, strike =  row['Tilt'], (row['Rotation']-90.0)\n",
    "    ax5.pole(strike, dip, 'cD', markersize=3, clip_on=False,markeredgecolor='black', markeredgewidth=0.5)\n",
    "\n",
    "\n",
    "ax6 = fig.add_subplot(336, projection='stereonet')\n",
    "ax6.annotate('(f)', xy=(0, 0), xytext=(-3.0,0.1), fontsize=16)\n",
    "ax6.plane(0.0, 90.0, 'k-', linewidth=1)\n",
    "ax6.plane(90.0, 90.0, 'k-', linewidth=1)\n",
    "ax6.set_azimuth_ticks([90,0], labels=['','']) \n",
    "SchemeName,Coordinates=TiltRotate(\"Rotation-60detTilt\", 120.0, 5000.0, 30.0,60.0,56.0)\n",
    "for index, row in Coordinates.iterrows():\n",
    "    #print row['Tilt'], row['Rotation']\n",
    "    dip, strike =  row['Tilt'], (row['Rotation']-90.0)\n",
    "    ax6.pole(strike, dip, 'cD', markersize=2, clip_on=False,markeredgecolor='black', markeredgewidth=0.5)\n",
    "\n",
    "\n",
    "    \n",
    "# Hex Grids\n",
    "\n",
    "ax7 = fig.add_subplot(337, projection='stereonet')\n",
    "ax7.annotate('(g)', xy=(0, 0), xytext=(-3.0,0.1), fontsize=16)\n",
    "ax7.plane(0.0, 90.0, 'k-', linewidth=1)\n",
    "ax7.plane(90.0, 90.0, 'k-', linewidth=1)\n",
    "ax7.set_azimuth_ticks([90,0], labels=['','']) \n",
    "SchemeName,Coordinates=HexGrid(\"HexGrid-90degTilt5degRes\",90.0,5.0)\n",
    "for index, row in Coordinates.iterrows():\n",
    "    #print row['Tilt'], row['Rotation']\n",
    "    dip, strike =  row['Tilt'], (row['Rotation']-90.0)\n",
    "    ax7.pole(strike, dip, 'mh', markersize=2, clip_on=False,markeredgecolor='black', markeredgewidth=0.5)\n",
    "\n",
    "\n",
    "ax8 = fig.add_subplot(338, projection='stereonet')\n",
    "ax8.annotate('(h)', xy=(0, 0), xytext=(-3.0,0.1), fontsize=16)\n",
    "ax8.plane(0.0, 90.0, 'k-', linewidth=1)\n",
    "ax8.plane(90.0, 90.0, 'k-', linewidth=1)\n",
    "ax8.set_azimuth_ticks([90,0], labels=['','']) \n",
    "SchemeName,Coordinates=HexGrid(\"HexGrid-90degTilt22p5degRes\",90.0,22.5)\n",
    "for index, row in Coordinates.iterrows():\n",
    "    #print row['Tilt'], row['Rotation']\n",
    "    dip, strike =  row['Tilt'], (row['Rotation']-90.0)\n",
    "    ax8.pole(strike, dip, 'mh', markersize=4, clip_on=False,markeredgecolor='black', markeredgewidth=0.5)\n",
    "\n",
    "\n",
    "\n",
    "ax9 = fig.add_subplot(339, projection='stereonet')\n",
    "ax9.annotate('(i)', xy=(0, 0), xytext=(-3.0,0.1), fontsize=16)\n",
    "ax9.plane(0.0, 90.0, 'k-', linewidth=1)\n",
    "ax9.plane(90.0, 90.0, 'k-', linewidth=1)\n",
    "ax9.set_azimuth_ticks([90,0], labels=['','']) \n",
    "SchemeName,Coordinates=HexGrid(\"HexGrid-60degTilt5degRes\",60.0,5.0)\n",
    "for index, row in Coordinates.iterrows():\n",
    "    #print row['Tilt'], row['Rotation']\n",
    "    dip, strike =  row['Tilt'], (row['Rotation']-90.0)\n",
    "    ax9.pole(strike, dip, 'mh', markersize=2, clip_on=False,markeredgecolor='black', markeredgewidth=0.5)\n",
    "    \n",
    "\n",
    "\n",
    "# Legend\n",
    "import matplotlib.lines as mlines\n",
    "blue_dot = mlines.Line2D([], [], color='white', marker='s', mfc='b',\n",
    "                          markersize=15, label='',markeredgecolor='black', markeredgewidth=0.5)\n",
    "red_dot = mlines.Line2D([], [], color='white', marker='s', mfc='r',\n",
    "                          markersize=15, label='',markeredgecolor='black', markeredgewidth=0.5)\n",
    "green_dot = mlines.Line2D([], [], color='white', marker='s', mfc='g',\n",
    "                          markersize=15, label='',markeredgecolor='black', markeredgewidth=0.5)\n",
    "yellow_dot = mlines.Line2D([], [], color='white', marker='s', mfc='y',\n",
    "                          markersize=15, label='',markeredgecolor='black', markeredgewidth=0.5)\n",
    "\n",
    "blue_plus = mlines.Line2D([], [], color='white', marker='+', mec='b', mew=2.0,\n",
    "                          markersize=15, label='')\n",
    "red_plus = mlines.Line2D([], [], color='white', marker='+', mec='r',mew=2.0,\n",
    "                          markersize=15, label='')\n",
    "green_plus = mlines.Line2D([], [], color='white', marker='+', mec='g',mew=2.0,\n",
    "                          markersize=15, label='')\n",
    "\n",
    "cyan_square = mlines.Line2D([], [], color='white', marker='D', mfc='c',\n",
    "                          markersize=12, label='',markeredgecolor='black', markeredgewidth=0.5)\n",
    "\n",
    "mag_hex = mlines.Line2D([], [], color='white', marker='h', mfc='m',\n",
    "                          markersize=15, label='',markeredgecolor='black', markeredgewidth=0.5)\n",
    "\n",
    "handles=[blue_dot, red_dot, green_dot,  blue_plus, red_plus, green_plus, yellow_dot, cyan_square, mag_hex]\n",
    "labels=['ND Single','RD Single','TD Single', 'ND Ring','RD Ring','TD Ring','Morris Single', 'Tilt and Rotation', 'Hexagonal Grid']\n",
    "\n",
    "\n",
    "#plt.figlegend((handles),(labels),'lower center', numpoints=1, ncol=3,fontsize=16,bbox_to_anchor=[0.46, -0.015])\n",
    "plt.figlegend((handles),(labels),'lower center', numpoints=1, ncol=3,fontsize=16)\n",
    "\n",
    "\n",
    "#swtich between saving figure and showing the figure\n",
    "\n",
    "#plt.savefig(\"SamplingSchemes-Draft.eps\", dpi=600,format=\"eps\")\n",
    "#plt.savefig(\"SamplingSchemes-Draft.pdf\", dpi=600,format=\"pdf\")\n",
    "#plt.savefig(\"SamplingSchemes-Draft.png\", dpi=600,format=\"png\")\n",
    "plt.show()"
   ]
  },
  {
   "cell_type": "markdown",
   "metadata": {
    "collapsed": true
   },
   "source": [
    "## Plotting of all the new Sampling Schemes"
   ]
  },
  {
   "cell_type": "code",
   "execution_count": null,
   "metadata": {
    "collapsed": true
   },
   "outputs": [],
   "source": [
    "fig = plt.figure(figsize=(8,9), dpi=600)\n",
    "\n",
    "#key\n",
    "ax1 = fig.add_subplot(331, projection='stereonet')\n",
    "ax1.set_azimuth_ticks([0,90], labels=['RD','-- TD'],fontsize=14) \n",
    "ax1.plane(0.0, 90.0, 'k-', linewidth=1)\n",
    "ax1.plane(90.0, 90.0, 'k-', linewidth=1)\n",
    "ax1.annotate('(a)', xy=(0, 0), xytext=(-3.0,0.1), fontsize=16)\n",
    "ax1.annotate('ND', xy=(0, 0), xytext=(0.1,0.1), fontsize=14)\n",
    "\n",
    "#Gaussian Quadrature\n",
    "ax10 = fig.add_subplot(332, projection='stereonet')\n",
    "ax10.annotate('(b)', xy=(0, 0), xytext=(-3.0,0.1), fontsize=16)\n",
    "ax10.plane(0.0, 90.0, 'k-', linewidth=1)\n",
    "ax10.plane(90.0, 90.0, 'k-', linewidth=1)\n",
    "ax10.set_azimuth_ticks([90,0], labels=['','']) \n",
    "\n",
    "SchemeName,Coordinates=GaussQuad(\"Gaussian Quadrature\")\n",
    "dip, strike =Coordinates['Tilt'], (Coordinates['Rotation']-90.0)\n",
    "l1=ax10.pole(strike, dip, marker ='^',mfc='orange', markersize=10, clip_on=False,markeredgecolor='black', markeredgewidth=0.5)\n",
    "\n",
    "ax11 = fig.add_subplot(333, projection='stereonet')\n",
    "ax11.annotate('(c)', xy=(0, 0), xytext=(-3.0,0.1), fontsize=16)\n",
    "ax11.plane(0.0, 90.0, 'k-', linewidth=1)\n",
    "ax11.plane(90.0, 90.0, 'k-', linewidth=1)\n",
    "ax11.set_azimuth_ticks([90,0], labels=['','']) \n",
    "\n",
    "SchemeName,Coordinates=Spiral(\"Spiral\",90,10,5)\n",
    "for index, row in Coordinates.iterrows():\n",
    "    #print row['Tilt'], row['Rotation']\n",
    "    dip, strike =  row['Tilt'], (row['Rotation']-90.0)\n",
    "    ax11.pole(strike, dip, marker = 'o',mfc = 'purple', markersize=5, clip_on=False,markeredgecolor='black', markeredgewidth=0.5)\n",
    "#legend\n",
    "import matplotlib.lines as mlines\n",
    "org_tri= mlines.Line2D([], [], color='white', marker='^', mfc='orange',\n",
    "                          markersize=15, label='',markeredgecolor='black', markeredgewidth=0.5)\n",
    "purp_circ= mlines.Line2D([], [], color='white', marker='o', mfc='purple',\n",
    "                          markersize=15, label='',markeredgecolor='black', markeredgewidth=0.5)\n",
    "handles = [org_tri, purp_circ]\n",
    "labels = ['Gaussian Quadrature','Spiral']\n",
    "\n",
    "plt.figlegend((handles),(labels),'lower center', numpoints=1, ncol=3,fontsize=16)\n",
    "\n",
    "plt.show()"
   ]
  }
 ],
 "metadata": {
  "anaconda-cloud": {},
  "kernelspec": {
   "display_name": "Python [default]",
   "language": "python",
   "name": "python2"
  },
  "language_info": {
   "codemirror_mode": {
    "name": "ipython",
    "version": 2
   },
   "file_extension": ".py",
   "mimetype": "text/x-python",
   "name": "python",
   "nbconvert_exporter": "python",
   "pygments_lexer": "ipython2",
   "version": "2.7.12"
  }
 },
 "nbformat": 4,
 "nbformat_minor": 1
}
