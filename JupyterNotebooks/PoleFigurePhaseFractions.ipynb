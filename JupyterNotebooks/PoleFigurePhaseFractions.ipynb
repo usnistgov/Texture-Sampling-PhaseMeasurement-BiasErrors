{
 "cells": [
  {
   "cell_type": "markdown",
   "metadata": {},
   "source": [
    "# PoleFigurePhaseFractions.ipynb\n",
    "Written by Adam Creuziger (adam.creuziger@nist.gov)\n",
    "\n",
    "Oct 2017\n",
    "\n",
    "    This data was developed by employees of the National Institute of Standards and Technology (NIST), an agency of the Federal Government. Pursuant to title 17 United States Code Section 105, works of NIST employees are not subject to copyright protection in the United States and are considered to be in the public domain.\n",
    "\n",
    "    The data is provided by NIST as a public service and is expressly provided \"AS IS.\" NIST MAKES NO WARRANTY OF ANY KIND, EXPRESS, IMPLIED OR STATUTORY, INCLUDING, WITHOUT LIMITATION, THE IMPLIED WARRANTY OF MERCHANTABILITY, FITNESS FOR A PARTICULAR PURPOSE, NON-INFRINGEMENT AND DATA ACCURACY. NIST does not warrant or make any representations regarding the use of the data or the results thereof, including but not limited to the correctness, accuracy, reliability or usefulness of the data. NIST SHALL NOT BE LIABLE AND YOU HEREBY RELEASE NIST FROM LIABILITY FOR ANY INDIRECT, CONSEQUENTIAL, SPECIAL, OR INCIDENTAL DAMAGES (INCLUDING DAMAGES FOR LOSS OF BUSINESS PROFITS, BUSINESS INTERRUPTION, LOSS OF BUSINESS INFORMATION, AND THE LIKE), WHETHER ARISING IN TORT, CONTRACT, OR OTHERWISE, ARISING FROM OR RELATING TO THE DATA (OR THE USE OF OR INABILITY TO USE THIS DATA), EVEN IF NIST HAS BEEN ADVISED OF THE POSSIBILITY OF SUCH DAMAGES.\n",
    "\n",
    "    To the extent that NIST may hold copyright in countries other than the United States, you are hereby granted the non-exclusive irrevocable and unconditional right to print, publish, prepare derivative works and distribute the NIST data, in any medium, or authorize others to do so on your behalf, on a royalty-free basis throughout the world.\n",
    "\n",
    "    You may improve, modify, and create derivative works of the data or any portion of the data, and you may copy and distribute such modifications or works. Modified works should carry a notice stating that you changed the data and should note the date and nature of any such change. Please explicitly acknowledge the National Institute of Standards and Technology as the source of the data: Data citation recommendations are provided below.\n",
    "\n",
    "    Permission to use this data is contingent upon your acceptance of the terms of this agreement and upon your providing appropriate acknowledgments of NIST's creation of the data.\n",
    "\n",
    "\n",
    "See: https://www.nist.gov/director/licensing"
   ]
  },
  {
   "cell_type": "markdown",
   "metadata": {},
   "source": [
    "## Packages used in this Jupyter Notebook"
   ]
  },
  {
   "cell_type": "code",
   "execution_count": null,
   "metadata": {},
   "outputs": [],
   "source": [
    "# Install packages not found in conda\n",
    "# Only needs to be installed during first run\n",
    "#pip install fortranformat\n",
    "#pip install mplstereonet\n",
    "\n",
    "## Need the development release of mplstereonet to work with matplotlib 3.2.2\n",
    "## https://github.com/joferkington/mplstereonet/issues/34 \n",
    "#pip install https://github.com/joferkington/mplstereonet/zipball/master"
   ]
  },
  {
   "cell_type": "code",
   "execution_count": null,
   "metadata": {},
   "outputs": [],
   "source": []
  },
  {
   "cell_type": "code",
   "execution_count": null,
   "metadata": {},
   "outputs": [],
   "source": [
    "#import fortranformat as ff\n",
    "import numpy as np \n",
    "import pandas as pd\n",
    "import scipy as scipy\n",
    "from scipy import interpolate \n",
    "from scipy import signal\n",
    "import matplotlib.pyplot as plt\n",
    "import mplstereonet\n",
    "import math\n",
    "import os\n",
    "from importlib import reload\n",
    "import seaborn as sns\n",
    "print ('Finished')"
   ]
  },
  {
   "cell_type": "code",
   "execution_count": null,
   "metadata": {},
   "outputs": [],
   "source": [
    "# Custom modules\n",
    "import TextureSampling\n",
    "import PlotTexture"
   ]
  },
  {
   "cell_type": "code",
   "execution_count": null,
   "metadata": {},
   "outputs": [],
   "source": [
    "# When needed to after changes\n",
    "reload(TextureSampling)\n",
    "reload(PlotTexture)"
   ]
  },
  {
   "cell_type": "code",
   "execution_count": null,
   "metadata": {},
   "outputs": [],
   "source": [
    "cwd=os.getcwd()\n",
    "SaveFolder=\"SavedFiles_2021Oct14\"\n",
    "\n",
    "if not os.path.exists(SaveFolder):\n",
    "    os.makedirs(SaveFolder)\n",
    "\n",
    "SaveFolderPath=os.path.abspath(os.path.join(cwd, SaveFolder))"
   ]
  },
  {
   "cell_type": "code",
   "execution_count": null,
   "metadata": {},
   "outputs": [],
   "source": [
    "## Check max value in Holden\n",
    "\n",
    "SchemeName, Coordinates=TextureSampling.KlugAlexanderSpiral('Holden', resolution=5)\n",
    "PlotTexture.DensityContourPlot(SchemeName, Coordinates,maxValue=10)\n",
    "print(len(Coordinates))"
   ]
  },
  {
   "cell_type": "code",
   "execution_count": null,
   "metadata": {},
   "outputs": [],
   "source": [
    "Coordinates"
   ]
  },
  {
   "cell_type": "code",
   "execution_count": null,
   "metadata": {},
   "outputs": [],
   "source": [
    "# When needed to after changes\n",
    "reload(TextureSampling)\n",
    "reload(PlotTexture)"
   ]
  },
  {
   "cell_type": "code",
   "execution_count": null,
   "metadata": {
    "scrolled": false
   },
   "outputs": [],
   "source": [
    "#SchemeName, Coordinates=TextureSampling.HexGrid('Rizzie Hex',90.0, 5.0)\n",
    "SchemeName, Coordinates= TextureSampling.BT8_HexGrid('Matthies', 90.0, 5.0)\n",
    "\n",
    "PlotTexture.SingleSchemePlot(SchemeName,Coordinates,'ko',4.0, save=False)\n",
    "PlotTexture.DensityContourPlot(SchemeName, Coordinates)\n",
    "len(Coordinates)"
   ]
  },
  {
   "cell_type": "code",
   "execution_count": null,
   "metadata": {},
   "outputs": [],
   "source": []
  },
  {
   "cell_type": "code",
   "execution_count": null,
   "metadata": {},
   "outputs": [],
   "source": []
  },
  {
   "cell_type": "code",
   "execution_count": null,
   "metadata": {},
   "outputs": [],
   "source": []
  },
  {
   "cell_type": "markdown",
   "metadata": {},
   "source": [
    "## Scatter & Contour Plots (Figs 1 & 2)"
   ]
  },
  {
   "cell_type": "code",
   "execution_count": null,
   "metadata": {
    "scrolled": false
   },
   "outputs": [],
   "source": [
    "# Cr radiation: (211) Ferrite 2-theta=155.6, theta=77.8;  (220) Austenite 2-theta=128.4, theta=64.2\n",
    "# SchemeName, Coordinates=TextureSampling.SpiralScheme('Rizzie Spiral', 90.0, 6480)\n",
    "# PlotTexture.DensityContourPlot(SchemeName, Coordinates,save=True, savename=str(SchemeName)+'_contour.png')\n",
    "# PlotTexture.SingleSchemePlot(SchemeName,Coordinates,'mH',4.0, save=True, cmd=True, savename=str(SchemeName)+'_scatter.png')\n",
    "\n",
    "SchemeName, Coordinates= TextureSampling.SpiralGrid('Spiral', 5.0)\n",
    "PlotTexture.DensityContourPlot(SchemeName, Coordinates,save=True,\n",
    "                               savename=os.path.join(SaveFolderPath,(str(SchemeName)+'_contour.png')))\n",
    "PlotTexture.SingleSchemePlot(SchemeName,Coordinates,'ko',4.0, save=True, cmd=True, \n",
    "                             savename=os.path.join(SaveFolderPath,(str(SchemeName)+'_scatter.png')))\n",
    "#print(len(Coordinates))\n",
    "\n",
    "SchemeName, Coordinates=TextureSampling.KlugAlexanderSpiral('Holden', resolution=5)\n",
    "PlotTexture.DensityContourPlot(SchemeName, Coordinates,save=True, \n",
    "                               savename=os.path.join(SaveFolderPath,(str(SchemeName)+'_contour.png')))\n",
    "PlotTexture.SingleSchemePlot(SchemeName, Coordinates, 'ko', 4.0, save=True, \n",
    "                             savename=os.path.join(SaveFolderPath,(str(SchemeName)+'_scatter.png')))\n",
    "#print(len(Coordinates))\n",
    "\n",
    "SchemeName, Coordinates=TextureSampling.HexGrid('Rizzie Hex',90.0, 5.0)\n",
    "PlotTexture.DensityContourPlot(SchemeName, Coordinates,save=True, \n",
    "                               savename=os.path.join(SaveFolderPath,(str(SchemeName)+'_contour.png')))\n",
    "PlotTexture.SingleSchemePlot(SchemeName,Coordinates,'ko',4.0, save=True, cmd=True, \n",
    "                             savename=os.path.join(SaveFolderPath,(str(SchemeName)+'_scatter.png')))\n",
    "#print(len(Coordinates))\n",
    "\n",
    "# SchemeName, Coordinates=TextureSampling.HexGrid('Partial hex',60.0, 5.0)\n",
    "# PlotTexture.DensityContourPlot(SchemeName, Coordinates,save=True, savename=str(SchemeName)+'_contour.png')\n",
    "# PlotTexture.SingleSchemePlot(SchemeName,Coordinates,'mH',4.0, save=True, cmd=True, savename=str(SchemeName)+'_scatter.png')\n",
    "\n",
    "SchemeName, Coordinates= TextureSampling.BT8_HexGrid('Matthies', 90.0, 5.0)\n",
    "PlotTexture.DensityContourPlot(SchemeName, Coordinates,save=True, \n",
    "                               savename=os.path.join(SaveFolderPath,(str(SchemeName)+'_contour.png')))\n",
    "PlotTexture.SingleSchemePlot(SchemeName,Coordinates,'ko',4.0, save=True, cmd=True, \n",
    "                             savename=os.path.join(SaveFolderPath,(str(SchemeName)+'_scatter.png')))\n",
    "#print(len(Coordinates))\n",
    "\n",
    "\n"
   ]
  },
  {
   "cell_type": "markdown",
   "metadata": {},
   "source": [
    "\n",
    "## Number of points (Table 1)"
   ]
  },
  {
   "cell_type": "code",
   "execution_count": null,
   "metadata": {},
   "outputs": [],
   "source": [
    "# 2.5 deg resolution\n",
    "SchemeName, Coordinates= TextureSampling.SpiralGrid('Spiral', 2.5)\n",
    "print(len(Coordinates))\n",
    "\n",
    "SchemeName, Coordinates=TextureSampling.HexGrid('Rizzie Hex',90.0, 2.5)\n",
    "print(len(Coordinates))\n",
    "\n",
    "SchemeName, Coordinates=TextureSampling.KlugAlexanderSpiral('Holden', resolution=2.5)\n",
    "print(len(Coordinates))\n",
    "\n",
    "SchemeName, Coordinates= TextureSampling.BT8_HexGrid('Matthies', 90.0, 2.5)\n",
    "print(len(Coordinates))\n",
    "\n",
    "print()\n",
    "\n",
    "# 5 deg resolution\n",
    "SchemeName, Coordinates= TextureSampling.SpiralGrid('Spiral', 5.0)\n",
    "print(len(Coordinates))\n",
    "\n",
    "SchemeName, Coordinates=TextureSampling.HexGrid('Rizzie Hex',90.0, 5.0)\n",
    "print(len(Coordinates))\n",
    "\n",
    "SchemeName, Coordinates=TextureSampling.KlugAlexanderSpiral('Holden', resolution=5)\n",
    "print(len(Coordinates))\n",
    "\n",
    "SchemeName, Coordinates= TextureSampling.BT8_HexGrid('Matthies', 90.0, 5.0)\n",
    "print(len(Coordinates))\n",
    "\n",
    "print()\n",
    "\n",
    "#10 deg resolution\n",
    "SchemeName, Coordinates= TextureSampling.SpiralGrid('Spiral', 10.0)\n",
    "print(len(Coordinates))\n",
    "\n",
    "SchemeName, Coordinates=TextureSampling.HexGrid('Rizzie Hex',90.0, 10.0)\n",
    "print(len(Coordinates))\n",
    "\n",
    "SchemeName, Coordinates=TextureSampling.KlugAlexanderSpiral('Holden', resolution=10)\n",
    "print(len(Coordinates))\n",
    "\n",
    "SchemeName, Coordinates= TextureSampling.BT8_HexGrid('Matthies', 90.0, 10.0)\n",
    "print(len(Coordinates))\n"
   ]
  },
  {
   "cell_type": "markdown",
   "metadata": {},
   "source": [
    "## Create a dataframe of all Scheme resolutions tested"
   ]
  },
  {
   "cell_type": "code",
   "execution_count": null,
   "metadata": {},
   "outputs": [],
   "source": []
  },
  {
   "cell_type": "code",
   "execution_count": null,
   "metadata": {},
   "outputs": [],
   "source": [
    "column_names = [\"SchemeName\", \"Coordinates\", \"MarkerType\", \"MarkerSize\"]\n",
    "SchemeDF = pd.DataFrame(columns = column_names)\n",
    "\n",
    "SchemeName, Coordinates= TextureSampling.SpiralGrid(\"Spiral2.5\", 2.5)\n",
    "SchemeDF=SchemeDF.append(pd.DataFrame(data=[[SchemeName,Coordinates, 'mh', 4]], columns=column_names), ignore_index=True)\n",
    "\n",
    "SchemeName, Coordinates= TextureSampling.SpiralGrid(\"Spiral5\", 5.0)\n",
    "SchemeDF=SchemeDF.append(pd.DataFrame(data=[[SchemeName,Coordinates, 'mh', 4]], columns=column_names), ignore_index=True)\n",
    "\n",
    "SchemeName, Coordinates= TextureSampling.SpiralGrid(\"Spiral7.5\", 7.5)\n",
    "SchemeDF=SchemeDF.append(pd.DataFrame(data=[[SchemeName,Coordinates, 'mh', 4]], columns=column_names), ignore_index=True)\n",
    "\n",
    "SchemeName, Coordinates= TextureSampling.SpiralGrid(\"Spiral10\", 10.0)\n",
    "SchemeDF=SchemeDF.append(pd.DataFrame(data=[[SchemeName,Coordinates, 'mh', 4]], columns=column_names), ignore_index=True)\n",
    "\n",
    "SchemeName, Coordinates= TextureSampling.SpiralGrid(\"Spiral15\", 15.0)\n",
    "SchemeDF=SchemeDF.append(pd.DataFrame(data=[[SchemeName,Coordinates, 'mh', 4]], columns=column_names), ignore_index=True)\n",
    "\n",
    "SchemeName, Coordinates= TextureSampling.SpiralGrid(\"Spiral20\", 20.0)\n",
    "SchemeDF=SchemeDF.append(pd.DataFrame(data=[[SchemeName,Coordinates, 'mh', 4]], columns=column_names), ignore_index=True)\n",
    "\n",
    "# Holden sprial\n",
    "\n",
    "#SchemeName, Coordinates = TextureSampling.KlugAlexanderSpiral(\"Holden Spiral\", mirror=False, quadlock=False)\n",
    "SchemeName, Coordinates=TextureSampling.KlugAlexanderSpiral('Holden2.5', resolution=2.5)\n",
    "SchemeDF=SchemeDF.append(pd.DataFrame(data=[[SchemeName, Coordinates,'mh',4]], columns = column_names),ignore_index=True)\n",
    "\n",
    "SchemeName, Coordinates=TextureSampling.KlugAlexanderSpiral('Holden5', resolution=5.0)\n",
    "SchemeDF=SchemeDF.append(pd.DataFrame(data=[[SchemeName, Coordinates,'mh',4]], columns = column_names),ignore_index=True)\n",
    "\n",
    "SchemeName, Coordinates=TextureSampling.KlugAlexanderSpiral('Holden7.5', resolution=7.5)\n",
    "SchemeDF=SchemeDF.append(pd.DataFrame(data=[[SchemeName, Coordinates,'mh',4]], columns = column_names),ignore_index=True)\n",
    "\n",
    "SchemeName, Coordinates=TextureSampling.KlugAlexanderSpiral('Holden10', resolution=10.0)\n",
    "SchemeDF=SchemeDF.append(pd.DataFrame(data=[[SchemeName, Coordinates,'mh',4]], columns = column_names),ignore_index=True)\n",
    "\n",
    "SchemeName, Coordinates=TextureSampling.KlugAlexanderSpiral('Holden15', resolution=15.0)\n",
    "SchemeDF=SchemeDF.append(pd.DataFrame(data=[[SchemeName, Coordinates,'mh',4]], columns = column_names),ignore_index=True)\n",
    "\n",
    "SchemeName, Coordinates=TextureSampling.KlugAlexanderSpiral('Holden20', resolution=20.0)\n",
    "SchemeDF=SchemeDF.append(pd.DataFrame(data=[[SchemeName, Coordinates,'mh',4]], columns = column_names),ignore_index=True)\n",
    "\n",
    "\n",
    "# Rizzie Hex Grid Schemes      \n",
    "SchemeName,Coordinates=TextureSampling.HexGrid(\"RizzieHex2.5\",90.0,2.5)\n",
    "SchemeDF=SchemeDF.append(pd.DataFrame(data=[[SchemeName, Coordinates,'mh',4]], \n",
    "                                      columns = column_names),ignore_index=True)\n",
    "\n",
    "SchemeName,Coordinates=TextureSampling.HexGrid(\"RizzieHex5\",90.0,5.0)\n",
    "SchemeDF=SchemeDF.append(pd.DataFrame(data=[[SchemeName, Coordinates,'mh',4]], \n",
    "                                      columns = column_names),ignore_index=True)\n",
    "\n",
    "SchemeName,Coordinates=TextureSampling.HexGrid(\"RizzieHex7.5\",90.0,7.5)\n",
    "SchemeDF=SchemeDF.append(pd.DataFrame(data=[[SchemeName, Coordinates,'mh',4]], \n",
    "                                      columns = column_names),ignore_index=True)\n",
    "\n",
    "SchemeName,Coordinates=TextureSampling.HexGrid(\"RizzieHex10\",90.0,10.0)\n",
    "SchemeDF=SchemeDF.append(pd.DataFrame(data=[[SchemeName, Coordinates,'mh',4]], \n",
    "                                      columns = column_names),ignore_index=True)\n",
    "\n",
    "SchemeName,Coordinates=TextureSampling.HexGrid(\"RizzieHex15\",90.0,15.0)\n",
    "SchemeDF=SchemeDF.append(pd.DataFrame(data=[[SchemeName, Coordinates,'mh',4]], columns = column_names),ignore_index=True)\n",
    "\n",
    "SchemeName,Coordinates=TextureSampling.HexGrid(\"RizzieHex20\",90.0,20.0)\n",
    "SchemeDF=SchemeDF.append(pd.DataFrame(data=[[SchemeName, Coordinates,'mh',4]], columns = column_names),ignore_index=True)\n",
    "\n",
    "#Matthies Hex Grid\n",
    "\n",
    "SchemeName,Coordinates=TextureSampling.BT8_HexGrid(\"Mathhies_2.5\", 90.0, 2.5)\n",
    "SchemeDF=SchemeDF.append(pd.DataFrame(data=[[SchemeName, Coordinates,'mh',4]], columns = column_names),ignore_index=True)\n",
    "\n",
    "SchemeName,Coordinates=TextureSampling.BT8_HexGrid(\"Mathhies_5\", 90.0, 5.0)\n",
    "SchemeDF=SchemeDF.append(pd.DataFrame(data=[[SchemeName, Coordinates,'mh',4]], columns = column_names),ignore_index=True)\n",
    "\n",
    "SchemeName,Coordinates=TextureSampling.BT8_HexGrid(\"Mathhies_10\", 90.0, 10.0)\n",
    "SchemeDF=SchemeDF.append(pd.DataFrame(data=[[SchemeName, Coordinates,'mh',4]], columns = column_names),ignore_index=True)\n",
    "\n",
    "SchemeName,Coordinates=TextureSampling.BT8_HexGrid(\"Mathhies_15\", 90.0, 15.0)\n",
    "SchemeDF=SchemeDF.append(pd.DataFrame(data=[[SchemeName, Coordinates,'mh',4]], columns = column_names),ignore_index=True)\n",
    "\n",
    "SchemeName,Coordinates=TextureSampling.BT8_HexGrid(\"Mathhies_15\", 90.0, 15.0)\n",
    "SchemeDF=SchemeDF.append(pd.DataFrame(data=[[SchemeName, Coordinates,'mh',4]], columns = column_names),ignore_index=True)\n",
    "\n",
    "SchemeName,Coordinates=TextureSampling.BT8_HexGrid(\"Mathhies_20\", 90.0, 20.0)\n",
    "SchemeDF=SchemeDF.append(pd.DataFrame(data=[[SchemeName, Coordinates,'mh',4]], columns = column_names),ignore_index=True)\n",
    "\n",
    "\n",
    "# SchemeName,Coordinates=TextureSampling.BT8_HexGrid(\"BT8Hex-60\", 60.0, 5.0)\n",
    "# SchemeDF=SchemeDF.append(pd.DataFrame(data=[[SchemeName, Coordinates,'mh',4]], columns = column_names),ignore_index=True)\n",
    "\n",
    "# SchemeName,Coordinates=TextureSampling.BT8_HexGrid(\"BT8Hex-Quad\", 90.0, 5.0, CoverageType='quad')\n",
    "# SchemeDF=SchemeDF.append(pd.DataFrame(data=[[SchemeName, Coordinates,'mh',4]], columns = column_names),ignore_index=True)\n",
    "\n",
    "# SchemeName,Coordinates=TextureSampling.BT8_HexGrid(\"BT8Hex-Quad60\", 60.0, 5.0, CoverageType='quad')\n",
    "# SchemeDF=SchemeDF.append(pd.DataFrame(data=[[SchemeName, Coordinates,'mh',4]], columns = column_names),ignore_index=True)\n",
    "\n",
    "\n",
    "\n",
    "\n",
    "        \n",
    "\n",
    "#SchemeName, Coordinates = TextureSampling.SpiralScheme(\"Rizzie Spiral\", 90.0, 6480)\n",
    "#SchemeDF=SchemeDF.append(pd.DataFrame(data=[[SchemeName, Coordinates,'mh',4]], columns = column_names),ignore_index=True)\n"
   ]
  },
  {
   "cell_type": "code",
   "execution_count": null,
   "metadata": {},
   "outputs": [],
   "source": [
    "# When needed to after changes\n",
    "reload(TextureSampling)\n",
    "reload(PlotTexture)"
   ]
  },
  {
   "cell_type": "code",
   "execution_count": null,
   "metadata": {},
   "outputs": [],
   "source": [
    "#Fix directory if lost\n",
    "os.chdir(os.path.join(\"/Users\", 'creuzige', 'Documents', 'NIST_Research','GitHub',\n",
    "                 'Texture-Sampling-PhaseMeasurement-BiasErrors','JupyterNotebooks'))"
   ]
  },
  {
   "cell_type": "markdown",
   "metadata": {},
   "source": [
    "# Generate Arrays of Halfwidths (takes a long time)\n",
    "#### Can skip and just assign IntensitiesPath if this step was completed prior"
   ]
  },
  {
   "cell_type": "code",
   "execution_count": null,
   "metadata": {
    "tags": [
     "outputPrepend"
    ]
   },
   "outputs": [],
   "source": [
    "## Test Generation of Average Intensities from dataframe\n",
    "# Experimental data only\n",
    "# Mtex data\n",
    "\n",
    "# Get the current working directory path\n",
    "cwd=os.getcwd()\n",
    "Mtexdatapath=os.path.abspath(os.path.join(cwd, '..', 'Matlab', 'MtexDataHWnoMaa'))\n",
    "IntensitesPath=os.path.abspath(os.path.join(cwd, 'AvgHW_2021Aug17'))\n",
    "TextureSampling.GenerateAveIntesity(SchemeDF,\"mtex\", Mtexdatapath, IntensitesPath)"
   ]
  },
  {
   "cell_type": "code",
   "execution_count": null,
   "metadata": {},
   "outputs": [],
   "source": [
    "# If skipping HW generation, assign path to folder\n",
    "\n",
    "IntensitesPath=os.path.abspath(os.path.join(cwd, 'AvgHW_2021Aug17'))"
   ]
  },
  {
   "cell_type": "code",
   "execution_count": null,
   "metadata": {},
   "outputs": [],
   "source": []
  },
  {
   "cell_type": "code",
   "execution_count": null,
   "metadata": {
    "tags": [
     "outputPrepend"
    ]
   },
   "outputs": [],
   "source": [
    "#Use if from MAUD\n",
    "\n",
    "# cwd=os.getcwd()\n",
    "# xpcdatapath=os.path.abspath(os.path.join(cwd, '..', 'MAUD', 'XPCFiles'))\n",
    "# IntensitesPath=os.path.abspath(os.path.join(cwd, 'AllAveragedIntensities'))\n",
    "# TextureSampling.GenerateAveIntesity(SchemeDF, \"xpc\",xpcdatapath, IntensitesPath)"
   ]
  },
  {
   "cell_type": "code",
   "execution_count": null,
   "metadata": {},
   "outputs": [],
   "source": [
    "# When needed to after changes\n",
    "reload(TextureSampling)\n",
    "reload(PlotTexture)"
   ]
  },
  {
   "cell_type": "code",
   "execution_count": null,
   "metadata": {},
   "outputs": [],
   "source": [
    "#DFF[\"1Pair-A\"]\n",
    "# cwd=os.getcwd()\n",
    "# Mtexdatapath=os.path.abspath(os.path.join(cwd, '..', 'Matlab', 'MtexDataHW'))\n",
    "# IntensitesPath=os.path.abspath(os.path.join(cwd, 'AvgHW'))"
   ]
  },
  {
   "cell_type": "markdown",
   "metadata": {},
   "source": [
    "# Representation of Simulation Results\n",
    "## Feel free to delete any of the following if you would like, but I will leave all the plotting functions we have here for now..."
   ]
  },
  {
   "cell_type": "markdown",
   "metadata": {},
   "source": [
    "### Heatmaps (Fig 4 to 7)"
   ]
  },
  {
   "cell_type": "code",
   "execution_count": null,
   "metadata": {
    "scrolled": false
   },
   "outputs": [],
   "source": [
    "# Test Heatmap\n",
    "PlotTexture.PlotHeatmap(10, \"3Pairs-C\", \"Spiral5\", IntensitesPath, VF=.25,\n",
    "                        cbarRange=[0.2,0.3], keepTitle=False,save=True, \n",
    "                        savename=os.path.join(SaveFolderPath,\"Spiral5_HW10.png\"))\n",
    "\n",
    "PlotTexture.PlotHeatmap(10, \"3Pairs-C\", \"Holden5\", IntensitesPath, VF=.25,\n",
    "                        cbarRange=[0.2,0.3], keepTitle=False,save=True, \n",
    "                        savename=os.path.join(SaveFolderPath,\"Holden5_HW10.png\"))\n",
    "\n",
    "PlotTexture.PlotHeatmap(10, \"3Pairs-C\", \"RizzieHex5\", IntensitesPath, VF=.25,\n",
    "                        cbarRange=[0.2,0.3], keepTitle=False,save=True, \n",
    "                        savename=os.path.join(SaveFolderPath,\"Rizzie5_HW10.png\"))\n",
    "\n",
    "# Note misspelled name\n",
    "PlotTexture.PlotHeatmap(10, \"3Pairs-C\", \"Mathhies_5\", IntensitesPath, VF=.25,\n",
    "                        cbarRange=[0.2,0.3], keepTitle=False,save=True, \n",
    "                        savename=os.path.join(SaveFolderPath,\"Matthies5_HW10.png\"))\n",
    "\n",
    "#PlotTexture.PlotHeatmap(10, \"3Pairs-C\", \"BT8Hex_5\", IntensitesPath, VF=.25, cbarRange=[0.2,0.3])\n",
    "#PlotTexture.PlotHeatmap(20, \"3Pairs-C\", \"Holden\", IntensitesPath)\n",
    "#PlotTexture.PlotHeatmap(20, \"3Pairs-C\", \"Rizzie Sprial\", IntensitiesPath)"
   ]
  },
  {
   "cell_type": "code",
   "execution_count": null,
   "metadata": {},
   "outputs": [],
   "source": [
    "#IntensitiesPath\n",
    "IntensitesPath"
   ]
  },
  {
   "cell_type": "markdown",
   "metadata": {},
   "source": [
    "## Figure 3"
   ]
  },
  {
   "cell_type": "code",
   "execution_count": null,
   "metadata": {},
   "outputs": [],
   "source": [
    "#Note misspelled Mathhies...\n",
    "def AnalyzeHalfwidths2(SchemeList=[\"Spiral5\", \"Holden5\", \"RizzieHex5\", \"Mathhies_5\"],\n",
    "                       HWList=[3,5,10,15,20, 25,30], Folder=IntensitesPath, PeakCombo='3Pairs-C', VF=0.25):\n",
    "\n",
    "    for Scheme in SchemeList:\n",
    "        print(Scheme)\n",
    "        mini=[]\n",
    "        maxi=[]\n",
    "\n",
    "        for hw in HWList:\n",
    "            #print(hw)\n",
    "            #if (hw==3):\n",
    "            #    HW='03'\n",
    "            #elif (hw==5):\n",
    "            #    HW='05'\n",
    "            #else:\n",
    "            #    HW=str(hw)\n",
    "            HW=str(hw)\n",
    "            \n",
    "            AusteniteTextures=[]\n",
    "            FerriteTextures=[] \n",
    "            VFList=[]\n",
    "\n",
    "            for file in os.listdir(Folder):\n",
    "                #print(file)\n",
    "                if (file.find(\"A-HW\"+HW)>0):\n",
    "                    #print(file)\n",
    "                    AusteniteTextures.append(file)\n",
    "\n",
    "                elif (file.find(\"F-HW\"+HW)>0):\n",
    "                    #print(file)\n",
    "                    FerriteTextures.append(file)\n",
    "                else: ()\n",
    "    \n",
    "\n",
    "            for AustOrient in AusteniteTextures:\n",
    "                for FerrOrient in FerriteTextures:\n",
    "        \n",
    "            \n",
    "                    DFF=pd.read_excel(os.path.join(Folder,FerrOrient),header=1,skipfooter=0)\n",
    "                    DFA=pd.read_excel(os.path.join(Folder,AustOrient),header=1,skipfooter=0)\n",
    "\n",
    "                    # Revised, some issues with what's returned\n",
    "                    # Pandas returns a larger array instead of just one value - AC 2021 Mar 29\n",
    "                    F_val=float(DFF.loc[DFF['HKL'] == Scheme][PeakCombo])\n",
    "                    A_val=float(DFA.loc[DFA['HKL'] == Scheme][PeakCombo])\n",
    "                    #print (DFF)\n",
    "                    #print (DFA)\n",
    "                \n",
    "            \n",
    "                    # Append to lists\n",
    "                    VFList.append(VF*A_val/(VF*A_val+((1.0-VF)*F_val)))\n",
    "        \n",
    "            mini.append(min(VFList))\n",
    "            maxi.append(max(VFList))\n",
    "            VFList=[]\n",
    "            \n",
    "        if (Scheme==SchemeList[0]):\n",
    "            plt.fill_between(HWList,mini, y2=maxi, alpha=1.0, color=\"0.5\", label='Spiral Scheme', zorder=10)\n",
    "            plt.plot(HWList,mini,',-k',label=\"\", zorder=10)\n",
    "            plt.plot(HWList,maxi,',-k',label=\"\", zorder=10)\n",
    "            \n",
    "            \n",
    "        elif (Scheme==SchemeList[1]):\n",
    "            plt.fill_between(HWList,mini, y2=maxi, alpha=1.0, color=\"0.9\", label='Holden Scheme', zorder=0)\n",
    "            plt.plot(HWList,mini,',-k',label=\"\", zorder=0)\n",
    "            plt.plot(HWList,maxi,',-k',label=\"\", zorder=0)\n",
    "            \n",
    "        elif (Scheme==SchemeList[2]):\n",
    "            plt.fill_between(HWList,mini, y2=maxi, alpha=1.0, color=\"0.2\", label='Rizzie Hex Scheme', zorder=15)\n",
    "            plt.plot(HWList,mini,',-w',label=\"\", zorder=15)\n",
    "            plt.plot(HWList,maxi,',-w',label=\"\", zorder=15)\n",
    "            \n",
    "        elif (Scheme==SchemeList[3]):\n",
    "            plt.fill_between(HWList,mini, y2=maxi, alpha=1.0, color=\"0.75\", label='Matthies Hex Scheme', zorder=5)\n",
    "            plt.plot(HWList,mini,',-k',label=\"\", zorder=5)\n",
    "            plt.plot(HWList,maxi,',-k',label=\"\", zorder=5)    \n",
    "            \n",
    "\n",
    "\n",
    "            \n",
    "\n",
    "        \n",
    "\n",
    "        mini=[]\n",
    "        maxi=[]\n",
    "    \n",
    "\n",
    "    # maybe make 2 plots, one overall and one focused near center\n",
    "\n",
    "    plt.xlabel('ODF Halfwidth '+r'($^\\circ$)')\n",
    "    plt.ylabel('Phase Fraction')\n",
    "    #plt.title('Measurement Accuracy as a function of Halfwidth at 5 degree resolution')\n",
    "    #plt.ylim(0.07,0.6)\n",
    "    plt.ylim(0.15,0.35)\n",
    "    plt.hlines(0.25,xmin=0,xmax=30, linestyles='solid', label='Nominal Value', zorder=100)\n",
    "    plt.hlines(0.2375,xmin=0,xmax=30, linestyles='dashed', label='5% Error Bound', zorder=100)\n",
    "    plt.hlines(0.2625,xmin=0,xmax=30, linestyles='dashed', label='', zorder=100)\n",
    "    plt.legend(loc='upper center',ncol=2,bbox_to_anchor=(.5, 1.28)) #\n",
    "    plt.savefig(os.path.join(SaveFolderPath,\"HW_Comparison.png\"), bbox_inches='tight')\n",
    "    plt.show()\n",
    "\n",
    "AnalyzeHalfwidths2()    \n",
    "    "
   ]
  },
  {
   "cell_type": "code",
   "execution_count": null,
   "metadata": {},
   "outputs": [],
   "source": [
    "plt.fill_between([0,1,2],[3,3,3], y2=[5,5,5], alpha=1.0, color=\"0.2\", label='Matthies Hex Scheme', zorder=5)\n",
    "plt.show()"
   ]
  },
  {
   "cell_type": "markdown",
   "metadata": {},
   "source": [
    "## Export 5 deg grids \n",
    "#### Export function doesn't currently allow for folder/path to be specified"
   ]
  },
  {
   "cell_type": "code",
   "execution_count": null,
   "metadata": {
    "tags": []
   },
   "outputs": [],
   "source": [
    "# Sampling scheme test functions\n",
    "TextureSampling.SpiralGrid(\"Spiral\",5.0, export=True)\n",
    "TextureSampling.BT8_HexGrid(\"Matthies\", 90.0, 5.0, export=True)\n",
    "TextureSampling.HexGrid(\"Rizzie Hex\", 90.0, 5.0, export=True)\n",
    "#TextureSampling.SpiralScheme(\"Rizzie Spiral\", 90.0, 21600)\n",
    "TextureSampling.KlugAlexanderSpiral('Holden', resolution=5, export=True)\n"
   ]
  },
  {
   "cell_type": "code",
   "execution_count": null,
   "metadata": {},
   "outputs": [],
   "source": []
  },
  {
   "cell_type": "code",
   "execution_count": null,
   "metadata": {},
   "outputs": [],
   "source": []
  },
  {
   "cell_type": "markdown",
   "metadata": {},
   "source": [
    "### Alternate Heatmap?"
   ]
  },
  {
   "cell_type": "code",
   "execution_count": null,
   "metadata": {},
   "outputs": [],
   "source": [
    "# New Heatmap Function\n",
    "def Heatmap(hw, Folder, schemelist=['Spiral5', 'CLR_5', 'HexGrid-90degTilt5degRes' , 'BT8Hex_5'], peaklist=['1Pair-A', '1Pair-B', '2Pairs-A','2Pairs-B', '3Pairs-A', '3Pairs-B', '3Pairs-C'],Scheme2=None, VF=0.25, cbarMap=False, cbarRange=[0,0.1], save=False, cmd=False, savename='test.png'):\n",
    "    \n",
    "    \"\"\"\n",
    "    \n",
    "    \"\"\"\n",
    "    import fnmatch\n",
    "    import os\n",
    "    import pandas as pd\n",
    "    import numpy as np\n",
    "    import seaborn as sns\n",
    "    from matplotlib import pyplot as plt\n",
    "    from statistics import mean \n",
    "\n",
    "    datalist=[]\n",
    "    for s in schemelist:\n",
    "        for p in peaklist:\n",
    "            datalist.append((s,p))\n",
    "    \n",
    "    if (hw==3):\n",
    "        HW='03'\n",
    "    elif (hw==5):\n",
    "        HW='05'\n",
    "    else:\n",
    "        HW=str(hw)\n",
    "    \n",
    "\n",
    "    schemes=[]\n",
    "    peaks=[]\n",
    "    frac_list=[]\n",
    "    range_list=[]\n",
    "    for Scheme,PeakCombo in datalist:\n",
    "        AusteniteTextures=[]\n",
    "        FerriteTextures=[]  \n",
    "\n",
    "\n",
    "        for file in os.listdir(Folder):\n",
    "        \n",
    "            if (file.find(\"A-HW\"+HW)>0):\n",
    "                AusteniteTextures.append(file)\n",
    "            elif (file.find(\"F-HW\"+HW)>0):\n",
    "                FerriteTextures.append(file)\n",
    "            else: ()\n",
    "            \n",
    "            #print (FerriteTextures)\n",
    "            #print AusteniteTextures\n",
    "        \n",
    "        # Create as dictionary, easier for seaborn later, and single valued entries\n",
    "        AustList=[]\n",
    "        FerrList=[]\n",
    "        VFList=[]\n",
    "        AVFList=[] # for mins and maxes\n",
    "        \n",
    "        for AustOrient in AusteniteTextures:\n",
    "            for FerrOrient in FerriteTextures:\n",
    "            \n",
    "                \n",
    "                DFF=pd.read_excel(os.path.join(Folder,FerrOrient),header=1,skipfooter=0)\n",
    "                DFA=pd.read_excel(os.path.join(Folder,AustOrient),header=1,skipfooter=0)\n",
    "\n",
    "                if Scheme2 != None:\n",
    "                \n",
    "                    F_val=float(DFF.loc[DFF['HKL'] == Scheme][PeakCombo])\n",
    "                    A_val=float(DFA.loc[DFA['HKL'] == Scheme2][PeakCombo])\n",
    "                \n",
    "                else :\n",
    "                    # Revised, some issues with what's returned\n",
    "                    # Pandas returns a larger array instead of just one value - AC 2021 Mar 29\n",
    "                    F_val=float(DFF.loc[DFF['HKL'] == Scheme][PeakCombo])\n",
    "                    A_val=float(DFA.loc[DFA['HKL'] == Scheme][PeakCombo])\n",
    "                    #print (DFF)\n",
    "                    #print (DFA)\n",
    "                    \n",
    "                #split at file type and halfwidth for names\n",
    "                Fname=FerrOrient.split(\".\")[0].split(\"-\")[0]\n",
    "                Aname=AustOrient.split(\".\")[0].split(\"-\")[0]\n",
    "                \n",
    "                # Append to lists\n",
    "                AustList.append(Aname)\n",
    "                FerrList.append(Fname)\n",
    "                VFList.append(abs((VF*A_val/(VF*A_val+((1.0-VF)*F_val)))-0.25))\n",
    "                AVFList.append((VF*A_val/(VF*A_val+((1.0-VF)*F_val)))-0.25)\n",
    "\n",
    "            \n",
    "        range_list.append('Min: '+str(round(min(AVFList),3)) + '\\n' + 'Max: '+str(round(max(AVFList),3))) \n",
    "        frac_list.append(mean(VFList))\n",
    "        schemes.append(Scheme)\n",
    "        peaks.append(PeakCombo)\n",
    "\n",
    "    dataDict={\"Schemes\":schemes, \"Peak Combinations\": peaks, \"VF\":frac_list}\n",
    "    SaveTable=pd.pivot_table(pd.DataFrame.from_dict(dataDict),index=\"Schemes\", columns=\"Peak Combinations\")\n",
    "\n",
    "\n",
    "    \n",
    "    #used for debugging\n",
    "    #return dataDict\n",
    "    #return EmptyDF\n",
    "    \n",
    "    \n",
    "    # Need to rename columns since pivot_tables return a multiindex data frame\n",
    "    FerriteNames=[col[1] for col in SaveTable.columns.values]\n",
    "\n",
    " \n",
    "    # I think this has been depricated- AC 29 Mar 2021\n",
    "#    values[values == ''] = 0.0\n",
    "#    Values = values.astype(np.float)\n",
    "#    labels=[]\n",
    "#    for val in Values:\n",
    "#        if(val>=0.255):\n",
    "#            labels.append(\"+\")\n",
    "#        elif(val<=0.245):\n",
    "#            labels.append(\"-\")\n",
    "#        else:\n",
    "#            labels.append(\"O\")\n",
    "#    labels=np.asarray(labels)\n",
    "    #labels.resize(len(yaxis),len(xaxis)) \n",
    "    #labels=pd.DataFrame(labels)\n",
    "\n",
    "    # plotting\n",
    "\n",
    "    # aligning labels\n",
    "    data={\"Schemes\":schemes, \"Peak Combinations\": peaks, \"VF\":range_list}\n",
    "    Table=pd.pivot(pd.DataFrame.from_dict(data),index=\"Schemes\", columns=\"Peak Combinations\")\n",
    "    \n",
    "    \n",
    "    \n",
    "    if cbarMap=='grey':\n",
    "        color= sns.diverging_palette(359, 359, 99, l=0, sep=1, n=50, center='light', as_cmap=True)\n",
    "    \n",
    "    else:\n",
    "        color= sns.color_palette(\"coolwarm\", 25)\n",
    "    \n",
    "    plt.figure(figsize = (13,7))\n",
    "    figure=sns.heatmap(SaveTable, vmin=cbarRange[0], vmax=cbarRange[1], cmap='Blues', annot=Table, fmt= '',linewidths=0.5,square=True,cbar_kws={\"shrink\": .80}, xticklabels=FerriteNames)\n",
    "    #figure=sns.heatmap(SaveTable2, vmin=cbarRange[0], vmax=cbarRange[1], cmap='Blues', annot=True, fmt= '', annot_kws={'alpha': 0.1}, linewidths=0.5,square=True,cbar_kws={\"shrink\": .80})\n",
    "    figure.set_xlabel('Peak Combinations')\n",
    "    #figure=sns.heatmap(df_wide,vmin=0.0, vmax=0.50, cmap=color,center=0.25,annot=dw, annot_kws={\"size\": 18},fmt='',linewidths=0.5,square=True,cbar_kws={\"shrink\": .80})\n",
    "    plt.title(\"Plotting Phase Fraction Measurement Error for a Halfwidth of \"+HW, fontsize =18)\n",
    "    bottom, top = figure.get_ylim()\n",
    "    figure.set_ylim(bottom + 0.5, top - 0.5)\n",
    "    \n",
    "    #return figure\n",
    "    if save==True:\n",
    "        plt.savefig(savename, bbox_inches='tight')\n",
    "\n",
    "    if cmd==False:\n",
    "        plt.show()\n",
    "\n",
    "\n",
    "Heatmap(10, IntensitesPath)"
   ]
  },
  {
   "cell_type": "code",
   "execution_count": null,
   "metadata": {},
   "outputs": [],
   "source": [
    "# Get the current working directory path\n",
    "cwd=os.getcwd()\n",
    "#print cwd\n",
    "xpcdatapath=os.path.abspath(os.path.join(os.path.dirname(cwd)))\n",
    "#print xpcdatapath\n",
    "# Use join instead, it's better cross platform\n",
    "Folder=os.path.join(cwd,'AveragedIntensites')\n",
    "DFA=pd.read_excel(os.path.join(Folder, 'o554F-HW20.xlsx'))\n",
    "print(DFA)"
   ]
  },
  {
   "cell_type": "code",
   "execution_count": null,
   "metadata": {
    "tags": []
   },
   "outputs": [],
   "source": [
    "import fnmatch\n",
    "import os\n",
    "import pandas as pd\n",
    "import numpy as np\n",
    "import seaborn as sns\n",
    "from matplotlib import pyplot as plt\n",
    "def ViolinPlots(hw, PeakCombo, Folder, Schemelist=['Equal Angle', 'Spiral', 'BT8Hex', 'CLR'], VF=0.25, save=True, cmd=True, savename='samplevp.png'):\n",
    "    HW=str(hw)\n",
    "    AusteniteTextures=[]\n",
    "    FerriteTextures=[] \n",
    "\n",
    "    for file in os.listdir(Folder):\n",
    "    \n",
    "        if (file.find(\"A-HW\"+HW)>0):\n",
    "            AusteniteTextures.append(file)\n",
    "        elif (file.find(\"F-HW\"+HW)>0):\n",
    "            FerriteTextures.append(file)\n",
    "        else: ()\n",
    "        \n",
    "        #print (FerriteTextures)\n",
    "        #print AusteniteTextures\n",
    "    \n",
    "    CLRData=[]\n",
    "    EAData=[]\n",
    "    BT8HexData=[]\n",
    "    HexData=[]\n",
    "    SpiralData=[]\n",
    "    for Scheme in Schemelist:\n",
    "        if Scheme=='CLR':\n",
    "            VFList=CLRData\n",
    "        elif Scheme=='Equal Angle':\n",
    "            VFList=EAData\n",
    "        elif Scheme=='BT8Hex':\n",
    "            VFList=BT8HexData\n",
    "        elif Scheme=='Spiral':\n",
    "            VFList=SpiralData\n",
    "        else:\n",
    "            VFList=HexData\n",
    "\n",
    "        for AustOrient in AusteniteTextures:\n",
    "            for FerrOrient in FerriteTextures:\n",
    "        \n",
    "            \n",
    "                DFF=pd.read_excel(os.path.join(Folder,FerrOrient),header=1,skipfooter=0)\n",
    "                DFA=pd.read_excel(os.path.join(Folder,AustOrient),header=1,skipfooter=0)\n",
    "\n",
    "                # Revised, some issues with what's returned\n",
    "                # Pandas returns a larger array instead of just one value - AC 2021 Mar 29\n",
    "                F_val=float(DFF.loc[DFF['HKL'] == Scheme][PeakCombo])\n",
    "                A_val=float(DFA.loc[DFA['HKL'] == Scheme][PeakCombo])\n",
    "                #print (DFF)\n",
    "                #print (DFA)\n",
    "                \n",
    "            \n",
    "                # Append to lists\n",
    "                VFList.append(VF*A_val/(VF*A_val+((1.0-VF)*F_val)))        \n",
    "    \n",
    "    VFList=[]\n",
    "\n",
    "    df = pd.DataFrame({'Equal Angle': EAData, 'Spiral': SpiralData, 'Thomas Hex': BT8HexData, 'CLR': CLRData})\n",
    "    ax= sns.violinplot(data=df, inner='box', scale= \"count\")\n",
    "    ax.set_title(\"Violin Plots for \"+ str(len(Schemelist))+ \" Schemes with \"+str(PeakCombo)+ \" Peak Combination\")\n",
    "    ax.set_ylim([0.2,0.3])\n",
    "    ax.set_ylabel(\"Phase Fraction Measurement Values\")\n",
    "    ax.set_xlabel(\"Scheme Type\")\n",
    "\n",
    "\n",
    "    if save==True:\n",
    "        plt.savefig(savename, bbox_inches='tight')\n",
    "\n",
    "    if cmd==False:\n",
    "        plt.show()\n",
    "\n",
    "\n",
    "\n",
    "\n",
    "\n",
    "ViolinPlots(20, \"1Pair-A\", IntensitesPath)\n",
    "    "
   ]
  },
  {
   "cell_type": "code",
   "execution_count": null,
   "metadata": {},
   "outputs": [],
   "source": [
    "import PlotTexture\n",
    "def AnalyzePeakCombinations(Scheme,PeakList=['1Pair-A', '2Pairs-A', '2Pairs-B', '3Pairs-A', '3Pairs-B', '3Pairs-C', '4Pairs', '5A4F','MaxUnique']):\n",
    "    for peak in PeakList:\n",
    "        PlotTexture.PlotHeatmap(20, peak, Scheme, IntensitesPath, cbarRange=[0.2,0.3])\n",
    "    \n",
    "AnalyzePeakCombinations(\"Spiral5\")\n",
    "        \n"
   ]
  },
  {
   "cell_type": "code",
   "execution_count": null,
   "metadata": {
    "tags": []
   },
   "outputs": [],
   "source": [
    "def AnalyzeHalfwidths(SchemeList=[\"BT8Hex_5\", \"Spiral5\", \"HexGrid-90degTilt5degRes\"], HWList=[3,5,10,15,20],\n",
    "                      Folder=IntensitesPath, PeakCombo='3Pairs-C', VF=0.25):\n",
    "\n",
    "    for Scheme in SchemeList:\n",
    "        mini=[]\n",
    "        maxi=[]\n",
    "\n",
    "        for hw in HWList:\n",
    "            if (hw==3):\n",
    "                HW='03'\n",
    "            elif (hw==5):\n",
    "                HW='05'\n",
    "            else:\n",
    "                HW=str(hw)\n",
    "            \n",
    "            \n",
    "            AusteniteTextures=[]\n",
    "            FerriteTextures=[] \n",
    "            VFList=[]\n",
    "\n",
    "            for file in os.listdir(Folder):\n",
    "    \n",
    "                if (file.find(\"A-HW\"+HW)>0):\n",
    "                    #print(file)\n",
    "                    AusteniteTextures.append(file)\n",
    "\n",
    "                elif (file.find(\"F-HW\"+HW)>0):\n",
    "                    #print(file)\n",
    "                    FerriteTextures.append(file)\n",
    "                else: ()\n",
    "    \n",
    "\n",
    "            for AustOrient in AusteniteTextures:\n",
    "                for FerrOrient in FerriteTextures:\n",
    "        \n",
    "            \n",
    "                    DFF=pd.read_excel(os.path.join(Folder,FerrOrient),header=1,skipfooter=0)\n",
    "                    DFA=pd.read_excel(os.path.join(Folder,AustOrient),header=1,skipfooter=0)\n",
    "\n",
    "                    # Revised, some issues with what's returned\n",
    "                    # Pandas returns a larger array instead of just one value - AC 2021 Mar 29\n",
    "                    F_val=float(DFF.loc[DFF['HKL'] == Scheme][PeakCombo])\n",
    "                    A_val=float(DFA.loc[DFA['HKL'] == Scheme][PeakCombo])\n",
    "                    #print (DFF)\n",
    "                    #print (DFA)\n",
    "                \n",
    "            \n",
    "                    # Append to lists\n",
    "                    VFList.append(VF*A_val/(VF*A_val+((1.0-VF)*F_val)))\n",
    "        \n",
    "            mini.append(min(VFList))\n",
    "            maxi.append(max(VFList))\n",
    "            VFList=[]\n",
    "\n",
    "\n",
    "        if (Scheme==SchemeList[0]):\n",
    "            plt.fill_between(HWList,mini, y2=maxi, alpha=0.2, label='Thomas Hex Scheme')\n",
    "        elif (Scheme==SchemeList[1]):\n",
    "            plt.fill_between(HWList,mini, y2=maxi, alpha=0.2, label='Spiral Scheme')\n",
    "        elif (Scheme==SchemeList[2]):\n",
    "            plt.fill_between(HWList,mini, y2=maxi, alpha=0.2, label='Rizzie Hex Scheme')\n",
    "        elif (Scheme==SchemeList[3]):\n",
    "            pass\n",
    "            #plt.fill_between(HWList,mini, y2=maxi, alpha=0.2, label='10 Degree Resolution')\n",
    "\n",
    "        mini=[]\n",
    "        maxi=[]\n",
    "    \n",
    "\n",
    "\n",
    "\n",
    "    plt.xlabel('Halfwidth Degree Values')\n",
    "    plt.ylabel('Texture Combination Phase Fraction Value')\n",
    "    plt.title('Measurement Accuracy as a function of Halfwidth at 5 degree resolution')\n",
    "    plt.ylim(0.15,0.4)\n",
    "    plt.hlines(0.25,xmin=0,xmax=35, linestyles='dashed', label='Theoretical (Expected) Value')\n",
    "    plt.hlines(0.2375,xmin=0,xmax=35, linestyles='dashed', label='5 Percent Lower Bound')\n",
    "    plt.hlines(0.2625,xmin=0,xmax=35, linestyles='dashed', label='5 Percent Upper Bound')\n",
    "    plt.legend(bbox_to_anchor=(1.75, 1))\n",
    "    plt.show()\n",
    "\n",
    "AnalyzeHalfwidths()    \n",
    "    "
   ]
  },
  {
   "cell_type": "markdown",
   "metadata": {},
   "source": [
    "# Test functions"
   ]
  },
  {
   "cell_type": "markdown",
   "metadata": {},
   "source": [
    "### Test Holden scheme"
   ]
  },
  {
   "cell_type": "code",
   "execution_count": null,
   "metadata": {},
   "outputs": [],
   "source": [
    "# When needed to after changes\n",
    "reload(TextureSampling)\n",
    "reload(PlotTexture)"
   ]
  },
  {
   "cell_type": "code",
   "execution_count": null,
   "metadata": {
    "scrolled": false
   },
   "outputs": [],
   "source": [
    "#SchemeName, Coordinates=TextureSampling.KlugAlexanderSpiral('Holden', mirror=True, resolution=10)\n",
    "SchemeName, Coordinates=TextureSampling.KlugAlexanderSpiral('Holden', resolution=5)\n",
    "PlotTexture.DensityContourPlot(SchemeName, Coordinates,save=True, savename=str(SchemeName)+'_contour.png')\n",
    "PlotTexture.SingleSchemePlot(SchemeName, Coordinates, 'mH', 4.0, save=True, savename='holden_scatter.png')\n",
    "print(len(Coordinates))"
   ]
  },
  {
   "cell_type": "code",
   "execution_count": null,
   "metadata": {},
   "outputs": [],
   "source": []
  },
  {
   "cell_type": "markdown",
   "metadata": {},
   "source": [
    "# Debugging File Reader"
   ]
  },
  {
   "cell_type": "code",
   "execution_count": null,
   "metadata": {
    "tags": []
   },
   "outputs": [],
   "source": [
    "# Test functions that need a file path\n",
    "cwd=os.getcwd()\n",
    "#print cwd\n",
    "xpcdatapath=os.path.abspath(os.path.join(cwd, '..', 'MAUD', 'XPCFiles'))\n",
    "IntensitesPath=os.path.abspath(os.path.join(cwd, 'AveragedIntensites'))\n",
    "XPCfile=os.path.join(xpcdatapath, \"GossA-HW20.xpc\")\n",
    "\n",
    "\n",
    "## may need to fix pandas, seems  like pfs are a list not a dataframe\n",
    "(pfs,hkllist)=TextureSampling.xpcformat('xpc',XPCfile)\n",
    "print(pfs)\n",
    "hkllist.index([1, 1, 1])\n",
    "\n",
    "\n",
    "### \n",
    "#SchemeName,Coordinates=TextureSampling.HexGrid(\"HexGrid-90degTilt5degRes\",60.0,21.0)\n",
    "#TextureSampling.pfIntensitySum(SchemeName, pfs, Coordinates)"
   ]
  },
  {
   "cell_type": "code",
   "execution_count": null,
   "metadata": {},
   "outputs": [],
   "source": [
    "# When needed to after changes\n",
    "reload(TextureSampling)\n",
    "reload(PlotTexture)"
   ]
  },
  {
   "cell_type": "code",
   "execution_count": null,
   "metadata": {
    "tags": []
   },
   "outputs": [],
   "source": [
    "## test new mtex reader\n",
    "cwd=os.getcwd()\n",
    "from os import path\n",
    "#Mtexdatapath='C:\\\\Users\\\\surya\\\\Downloads\\\\project\\\\Texture-Sampling-PhaseMeasurement-BiasErrors\\\\Matlab\\\\MtexDataHW-2021Jun08\\\\Alpha1F-HW03'\n",
    "Mtexdatapath=os.path.join(cwd,'..','Matlab', 'MtexDataHW_2021Aug05noMaa', 'Alpha1F-HW20')\n",
    "\n",
    "\n",
    "(pfs,hkllist)=TextureSampling.mtexPFformat(Mtexdatapath)\n",
    "print(hkllist)\n",
    "#TextureSampling.mtexPFformat(mtexfolder)\n"
   ]
  },
  {
   "cell_type": "code",
   "execution_count": null,
   "metadata": {},
   "outputs": [],
   "source": [
    "Mtexdatapath"
   ]
  },
  {
   "cell_type": "code",
   "execution_count": null,
   "metadata": {},
   "outputs": [],
   "source": [
    "# When needed to after changes\n",
    "reload(TextureSampling)\n",
    "reload(PlotTexture)"
   ]
  },
  {
   "cell_type": "markdown",
   "metadata": {},
   "source": [
    "# Test mplstereonet plotting conventions"
   ]
  },
  {
   "cell_type": "code",
   "execution_count": null,
   "metadata": {},
   "outputs": [],
   "source": [
    "fig = plt.figure(figsize=(8,9), dpi=600)\n",
    "ax1 = fig.add_subplot(111, projection='stereonet')\n",
    "ax1.set_azimuth_ticks([0,270], labels=['RD','TD'],fontsize=14)\n",
    "ax1.plane(0.0, 90.0, 'k-', linewidth=1)\n",
    "ax1.plane(90.0, 90.0, 'k-', linewidth=1)\n",
    "ax1.annotate('ND', xy=(0, 0), xytext=(0.1,0.1), fontsize=14)\n",
    "ax1.rotation=-90\n",
    "print(ax1.get_rotation())\n",
    "plt.show()"
   ]
  },
  {
   "cell_type": "code",
   "execution_count": null,
   "metadata": {},
   "outputs": [],
   "source": [
    "# When needed to after changes\n",
    "reload(TextureSampling)\n",
    "reload(PlotTexture)"
   ]
  },
  {
   "cell_type": "code",
   "execution_count": null,
   "metadata": {},
   "outputs": [],
   "source": []
  }
 ],
 "metadata": {
  "anaconda-cloud": {},
  "celltoolbar": "Attachments",
  "interpreter": {
   "hash": "dca0ade3e726a953b501b15e8e990130d2b7799f14cfd9f4271676035ebe5511"
  },
  "kernelspec": {
   "display_name": "Python 3",
   "language": "python",
   "name": "python3"
  },
  "language_info": {
   "codemirror_mode": {
    "name": "ipython",
    "version": 3
   },
   "file_extension": ".py",
   "mimetype": "text/x-python",
   "name": "python",
   "nbconvert_exporter": "python",
   "pygments_lexer": "ipython3",
   "version": "3.7.7"
  }
 },
 "nbformat": 4,
 "nbformat_minor": 1
}
